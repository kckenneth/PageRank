{
 "cells": [
  {
   "cell_type": "markdown",
   "metadata": {},
   "source": [
    "# Extra Credits (EC) \n",
    "due 04/03/2019 \n",
    "\n",
    "### Option (1) \n",
    "\n",
    "Extend HW 5 with the following:  \n",
    "- a. Show the page titles in the results (join with index file)  \n",
    "- b. Implement using both RDDs and DataFrames. Is this possible? What are the tradeoffs?\n",
    "- c. Run our 2GB wiki dataset through pragerank in graphframes and compare/contrast your implementation with GraphFrames. \n",
    "- d. Implement Topic Specific PageRank"
   ]
  },
  {
   "cell_type": "markdown",
   "metadata": {},
   "source": [
    "# Notebook Set-Up\n",
    "Before starting your homework run the following cells to confirm your setup."
   ]
  },
  {
   "cell_type": "code",
   "execution_count": 1,
   "metadata": {},
   "outputs": [],
   "source": [
    "# imports\n",
    "import re\n",
    "import ast\n",
    "import time\n",
    "import numpy as np\n",
    "import pandas as pd\n",
    "import seaborn as sns\n",
    "import networkx as nx\n",
    "import matplotlib.pyplot as plt"
   ]
  },
  {
   "cell_type": "code",
   "execution_count": 2,
   "metadata": {},
   "outputs": [],
   "source": [
    "%reload_ext autoreload\n",
    "%autoreload 2"
   ]
  },
  {
   "cell_type": "code",
   "execution_count": 3,
   "metadata": {},
   "outputs": [],
   "source": [
    "# store path to notebook\n",
    "PWD = !pwd\n",
    "PWD = PWD[0]"
   ]
  },
  {
   "cell_type": "code",
   "execution_count": 4,
   "metadata": {},
   "outputs": [],
   "source": [
    "# start Spark Session\n",
    "from pyspark.sql import SparkSession\n",
    "app_name = \"ec_notebook\"\n",
    "master = \"local[*]\"\n",
    "spark = SparkSession\\\n",
    "        .builder\\\n",
    "        .appName(app_name)\\\n",
    "        .master(master)\\\n",
    "        .getOrCreate()\n",
    "sc = spark.sparkContext"
   ]
  },
  {
   "cell_type": "markdown",
   "metadata": {},
   "source": [
    "__`REMINDER`__: If you are running this notebook on the course docker container, you can monitor the progress of your jobs using the Spark UI at: http://localhost:4040/jobs/"
   ]
  },
  {
   "cell_type": "code",
   "execution_count": 5,
   "metadata": {},
   "outputs": [],
   "source": [
    "# Since we already downloaded data from HW5, we just imported into Spark RDD. \n",
    "\n",
    "testRDD = sc.textFile('data/test_graph.txt')\n",
    "indexRDD = sc.textFile('data/indices.txt')\n",
    "wikiRDD = sc.textFile('data/wiki_graph.txt')"
   ]
  },
  {
   "cell_type": "code",
   "execution_count": 47,
   "metadata": {},
   "outputs": [
    {
     "name": "stdout",
     "output_type": "stream",
     "text": [
      " 5781290 data/wiki_graph.txt\n"
     ]
    }
   ],
   "source": [
    "# part b - count the number of records in the raw data (RUN THIS CELL AS IS)\n",
    "!wc -l data/wiki_graph.txt"
   ]
  },
  {
   "cell_type": "code",
   "execution_count": 48,
   "metadata": {},
   "outputs": [
    {
     "name": "stdout",
     "output_type": "stream",
     "text": [
      "73\t{'14417532': 1}\n",
      "299\t{'4214575': 1}\n",
      "2552\t{'15043376': 1, '13430968': 1, '13451035': 1, '7263397': 1, '13001625': 1, '13443575': 1, '13451269': 1, '13432316': 1, '11623371': 1, '15028971': 1, '13425865': 1, '15042703': 1, '5051368': 1, '9854998': 2, '13442976': 1, '13315025': 1, '2992307': 1, '1054486': 1, '1322325': 1, '13450983': 1}\n",
      "2570\t{'983991': 1}\n",
      "2616\t{'9045350': 1}\n",
      "2711\t{'752887': 1}\n",
      "2818\t{'3534183': 1}\n",
      "2847\t{'3797918': 1}\n",
      "2892\t{'2893': 1}\n",
      "2921\t{'5158607': 1, '6007184': 1, '14773825': 1, '11777840': 2, '9285165': 1, '6420484': 1, '14670682': 1, '7316613': 1, '7125893': 1, '14965920': 1, '14229952': 1, '9447742': 2, '1425342': 1, '11390944': 2, '5141': 1, '14928135': 2, '13636570': 3, '14687433': 1, '15105458': 1, '11656072': 1, '6420027': 1, '10898196': 1, '6416278': 1, '11497740': 2}\n"
     ]
    }
   ],
   "source": [
    "!head data/wiki_graph.txt"
   ]
  },
  {
   "cell_type": "code",
   "execution_count": 18,
   "metadata": {},
   "outputs": [],
   "source": [
    "# part c - write your Spark job here (compute total number of nodes)\n",
    "def count_nodes(dataRDD):\n",
    "    \"\"\"\n",
    "    Spark job to count the total number of nodes.\n",
    "    Returns: integer count \n",
    "    \"\"\"    \n",
    "    ############## YOUR CODE HERE ###############\n",
    " \n",
    "    def countNodes(pair):\n",
    "        key, value = pair\n",
    "        yield (key)\n",
    "        for node in ast.literal_eval(value).keys():\n",
    "            yield (node)\n",
    "       \n",
    "    totalCount = dataRDD.map(lambda line: line.split('\\t')) \\\n",
    "                        .flatMap(countNodes) \\\n",
    "                        .distinct() \\\n",
    "                        .count()\n",
    "    \n",
    "    ############## (END) YOUR CODE ###############   \n",
    "    return totalCount"
   ]
  },
  {
   "cell_type": "code",
   "execution_count": 16,
   "metadata": {},
   "outputs": [
    {
     "name": "stdout",
     "output_type": "stream",
     "text": [
      "... completed job in 756.5067429542542 seconds.\n",
      "Total Nodes: 15192277\n"
     ]
    }
   ],
   "source": [
    "# part c - run your counting job on the full file (RUN THIS CELL AS IS)\n",
    "start = time.time()\n",
    "tot = count_nodes(wikiRDD)\n",
    "print(f'... completed job in {time.time() - start} seconds.')\n",
    "print('Total Nodes:', tot)"
   ]
  },
  {
   "cell_type": "code",
   "execution_count": 6,
   "metadata": {},
   "outputs": [],
   "source": [
    "# part c - job to initialize the graph (RUN THIS CELL AS IS)\n",
    "def initGraph(dataRDD):\n",
    "    \"\"\"\n",
    "    Spark job to read in the raw data and initialize an \n",
    "    adjacency list representation with a record for each\n",
    "    node (including dangling nodes).\n",
    "    \n",
    "    Returns: \n",
    "        graphRDD -  a pair RDD of (node_id , (score, edges))\n",
    "        \n",
    "    NOTE: The score should be a float, but you may want to be \n",
    "    strategic about how format the edges... there are a few \n",
    "    options that can work. Make sure that whatever you choose\n",
    "    is sufficient for Question 8 where you'll run PageRank.\n",
    "    \"\"\"\n",
    "    ############## YOUR CODE HERE ###############\n",
    "\n",
    "    # write any helper functions here\n",
    "    def parse(line):\n",
    "        node, edges = line.split('\\t')\n",
    "        return (node, ast.literal_eval(edges))\n",
    "    \n",
    "    def adjList(pair):\n",
    "        node, edges = pair\n",
    "        for edge in edges.keys():\n",
    "            yield (node, [edge])\n",
    "            yield (edge, [])          # This emitting avoids accidentally missing dangling nodes \n",
    "    \n",
    "    # write your main Spark code here\n",
    "    \n",
    "    tempRDD = dataRDD.map(parse) \\\n",
    "                    .flatMap(adjList) \\\n",
    "                    .reduceByKey(lambda x, y : x+y) \\\n",
    "                    .cache()\n",
    "    \n",
    "    N = tempRDD.count()\n",
    "    \n",
    "    graphRDD = tempRDD.map(lambda x: (x[0], (1/N, x[1])))\n",
    "     \n",
    "    ############## (END) YOUR CODE ##############\n",
    "    \n",
    "    return graphRDD"
   ]
  },
  {
   "cell_type": "code",
   "execution_count": 51,
   "metadata": {},
   "outputs": [
    {
     "name": "stdout",
     "output_type": "stream",
     "text": [
      "... full graph initialized in 1237.2869539260864 seconds\n"
     ]
    }
   ],
   "source": [
    "# part c - run your code on the main graph (RUN THIS CELL AS IS)\n",
    "start = time.time()\n",
    "wikiGraphRDD = initGraph(wikiRDD)\n",
    "print(f'... full graph initialized in {time.time() - start} seconds')"
   ]
  },
  {
   "cell_type": "code",
   "execution_count": 7,
   "metadata": {},
   "outputs": [],
   "source": [
    "# part d - provided FloatAccumulator class (RUN THIS CELL AS IS)\n",
    "\n",
    "from pyspark.accumulators import AccumulatorParam\n",
    "\n",
    "class FloatAccumulatorParam(AccumulatorParam):\n",
    "    \"\"\"\n",
    "    Custom accumulator for use in page rank to keep track of various masses.\n",
    "    \n",
    "    IMPORTANT: accumulators should only be called inside actions to avoid duplication.\n",
    "    We stringly recommend you use the 'foreach' action in your implementation below.\n",
    "    \"\"\"\n",
    "    def zero(self, value):\n",
    "        return value\n",
    "    def addInPlace(self, val1, val2):\n",
    "        return val1 + val2"
   ]
  },
  {
   "cell_type": "code",
   "execution_count": 8,
   "metadata": {},
   "outputs": [],
   "source": [
    "# part d - job to run PageRank (RUN THIS CELL AS IS)\n",
    "def runPageRank(graphInitRDD, alpha = 0.15, maxIter = 10, verbose = True):\n",
    "    \"\"\"\n",
    "    Spark job to implement page rank\n",
    "    Args: \n",
    "        graphInitRDD  - pair RDD of (node_id , (score, edges))\n",
    "        alpha         - (float) teleportation factor\n",
    "        maxIter       - (int) stopping criteria (number of iterations)\n",
    "        verbose       - (bool) option to print logging info after each iteration\n",
    "    Returns:\n",
    "        steadyStateRDD - pair RDD of (node_id, pageRank)\n",
    "    \"\"\"\n",
    "    # teleportation:\n",
    "    a = sc.broadcast(alpha)\n",
    "    \n",
    "    # damping factor:\n",
    "    d = sc.broadcast(1-a.value)\n",
    "    \n",
    "    # initialize accumulators for dangling mass & total mass\n",
    "    mmAccum = sc.accumulator(0.0)\n",
    "    totAccum = sc.accumulator(0.0)\n",
    "    \n",
    "    ############## YOUR CODE HERE ###############\n",
    "    \n",
    "    # write your helper functions here, \n",
    "    # please document the purpose of each clearly \n",
    "    # for reference, the master solution has 5 helper functions.\n",
    "    \n",
    "    def calc_missing_mass (graph):\n",
    "        \"\"\"accumulate all dangling node mass or missing mass\"\"\"\n",
    "        node, (mass, neighbors) = graph\n",
    "        if neighbors == []:\n",
    "            mmAccum.add(float(mass))\n",
    "        \n",
    "    def dist_prob (graph):\n",
    "        \"\"\"redistribution probability mass\"\"\"\n",
    "        node, (mass, neighbors) = graph\n",
    "        N = len(neighbors)                           # number of reachable nodes (hyperlinked webpages)\n",
    "\n",
    "        if N == 0:\n",
    "            yield (node, (0, []))                    # no linked webpages \n",
    "        elif N > 0:\n",
    "            proba_mass = mass/N                      # probability mass for each of the linked webpages\n",
    "            for neighbor in neighbors:\n",
    "                yield(neighbor, (proba_mass, []))\n",
    "            yield (node, (0, neighbors))\n",
    "      \n",
    "    def combine_mass (graph):\n",
    "        \"\"\"combining all probability mass\"\"\"\n",
    "        node, (mass, neighbors) = graph\n",
    "        dist_missing_mass = missing_mass/G\n",
    "        \n",
    "        yield (node, (a.value * (1/G) + d.value * (dist_missing_mass + mass), neighbors))\n",
    "    \n",
    "    def total_mass (graph):\n",
    "        \"\"\"combining all mass from all nodes, should equal to 1.\"\"\"\n",
    "        node, (mass, neighbors) = graph\n",
    "        totAccum.add(float(mass))\n",
    "        \n",
    "    # write your main Spark Job here (including the for loop to iterate)\n",
    "    # for reference, the master solution is 21 lines including comments & whitespace\n",
    "    \n",
    "    G = graphInitRDD.count()             # total number of nodes or webpages in the graph\n",
    "    tempRDD1 = graphInitRDD\n",
    "    \n",
    "    # Since we're using the iteration rather than convergence, it's going to be for-loop format\n",
    "    for i in range(maxIter):\n",
    "        \n",
    "        #step1: accumulate dangling mass\n",
    "        tempRDD1.foreach(calc_missing_mass)\n",
    "        missing_mass = mmAccum.value\n",
    "        if verbose:\n",
    "            print(\"Dangling mass: \", mmAccum)\n",
    "        mmAccum = sc.accumulator(0.0)            # resetting to 0.0 for next loop value\n",
    "        \n",
    "        #step 2: redistribute mass and combine mass for nodes\n",
    "        tempRDD2 = tempRDD1.flatMap(dist_prob) \\\n",
    "                            .reduceByKey(lambda x, y: (x[0] + y[0], x[1] + y[1])) \\\n",
    "                            .flatMap(combine_mass) \\\n",
    "                            .cache()\n",
    "    \n",
    "        tempRDD2.foreach(total_mass)\n",
    "        if verbose:\n",
    "            print(\"Total mass   : \", totAccum)\n",
    "        totAccum = sc.accumulator(0.0)           # resetting to 0.0 for next loop value\n",
    "        \n",
    "        tempRDD1 = tempRDD2                      # keep variable name consistent for next loop\n",
    "    \n",
    "    steadyStateRDD = tempRDD1.map(lambda x: (x[0], x[1][0]))\n",
    "    \n",
    "    ############## (END) YOUR CODE ###############\n",
    "    \n",
    "    return steadyStateRDD"
   ]
  },
  {
   "cell_type": "markdown",
   "metadata": {},
   "source": [
    "# A. Show the page titles in the results (join with index file)"
   ]
  },
  {
   "cell_type": "code",
   "execution_count": 13,
   "metadata": {},
   "outputs": [
    {
     "name": "stdout",
     "output_type": "stream",
     "text": [
      "Dangling mass:  0.6194586236167866\n",
      "Total mass   :  1.0000000000011389\n",
      "Dangling mass:  0.5008445418004744\n",
      "Total mass   :  1.0000000000013671\n",
      "Dangling mass:  0.46754257467316024\n",
      "Total mass   :  1.0000000000017268\n",
      "Dangling mass:  0.45686319074265297\n",
      "Total mass   :  1.0000000000004465\n",
      "Dangling mass:  0.4531618613289884\n",
      "Total mass   :  1.000000000001258\n",
      "Dangling mass:  0.4517543987425795\n",
      "Total mass   :  1.0000000000003693\n",
      "Dangling mass:  0.45118542026463493\n",
      "Total mass   :  0.9999999999997026\n",
      "Dangling mass:  0.4509418903188725\n",
      "Total mass   :  1.0000000000003635\n",
      "Dangling mass:  0.4508326438188405\n",
      "Total mass   :  1.0000000000002356\n",
      "Dangling mass:  0.45078130691544266\n",
      "Total mass   :  0.9999999999999399\n",
      "...trained 10 iterations in 2757.1093640327454 seconds.\n",
      "--------------------------------------------------\n",
      "\n",
      "Top 30 ranked Webpages based on PageRank\n",
      "\n"
     ]
    },
    {
     "data": {
      "text/plain": [
       "[['United States', '13455888', 0.0014614491944282561],\n",
       " ['Animal', '1184351', 0.0006663317376702772],\n",
       " ['France', '4695850', 0.000639805187632495],\n",
       " ['Germany', '5051368', 0.0005748538827020078],\n",
       " ['Arthropod', '1384888', 0.00045030471434020375],\n",
       " ['Canada', '2437837', 0.00044660099104517264],\n",
       " ['Insect', '6113490', 0.0004448182480774587],\n",
       " ['List of sovereign states', '7902219', 0.0004442037346548337],\n",
       " ['United Kingdom', '13425865', 0.0004329952449795574],\n",
       " ['India', '6076759', 0.0004278853361862435],\n",
       " ['England', '4196067', 0.0004232759549601794],\n",
       " ['Iran', '6172466', 0.0003981702959211877],\n",
       " ['World War II', '14112583', 0.00038543367085653164],\n",
       " ['Poland', '10390714', 0.0003631670660923153],\n",
       " ['village', '15164193', 0.0003438311076771972],\n",
       " ['Countries of the world', '3191491', 0.00033834786526424363],\n",
       " ['Japan', '6416278', 0.00032935246270001544],\n",
       " ['Italy', '6237129', 0.000328969965605692],\n",
       " ['List of countries', '7835160', 0.0003263207199080851],\n",
       " ['Australia', '1516699', 0.00032507588819691665],\n",
       " ['Voivodeships of Poland', '13725487', 0.0003131434418439693],\n",
       " ['National Register of Historic Places', '9276255', 0.0003095941242872414],\n",
       " ['Lepidoptera', '7576704', 0.00030809546902217574],\n",
       " ['Powiat', '10469541', 0.00030354256664856375],\n",
       " ['Gmina', '5154210', 0.00029795335224945405],\n",
       " ['The New York Times', '12836211', 0.00028579029430054526],\n",
       " ['London', '7990491', 0.00028347554326402203],\n",
       " ['English language', '4198751', 0.0002690621118593176],\n",
       " ['China', '2797855', 0.00026401327508182034],\n",
       " ['Russia', '11253108', 0.0002610656557794531]]"
      ]
     },
     "execution_count": 13,
     "metadata": {},
     "output_type": "execute_result"
    }
   ],
   "source": [
    "# Loading index and caching them\n",
    "\n",
    "def parse(line):\n",
    "    title, index, val1, val2 = line.split('\\t')\n",
    "    return (index, title)    \n",
    "\n",
    "titles = indexRDD.map(parse) \\\n",
    "                    .cache()\n",
    "\n",
    "# Running pagerank on wikigraph with 10 iterations\n",
    "# join the output with the index, inner join with 'index' as a common \n",
    "# take the top 20 \n",
    "\n",
    "nIter = 10\n",
    "start = time.time()\n",
    "full_results = runPageRank(wikiGraphRDD, alpha = 0.15, maxIter = nIter, verbose = True)\n",
    " \n",
    "topTitles = full_results.join(titles) \\\n",
    "                        .map(lambda x: [x[1][1], x[0], x[1][0]] ) \\\n",
    "                        .takeOrdered(30, key=lambda x: -x[2])\n",
    "                                        \n",
    "print(f'...trained {nIter} iterations in {time.time() - start} seconds.')\n",
    "print(\"-\"*50)\n",
    "print(f'\\nTop 30 ranked Webpages based on PageRank\\n')\n",
    "topTitles"
   ]
  },
  {
   "cell_type": "code",
   "execution_count": 14,
   "metadata": {},
   "outputs": [
    {
     "data": {
      "image/png": "[encoded data removed]",
      "text/plain": [
       "<Figure size 864x1152 with 1 Axes>"
      ]
     },
     "metadata": {
      "needs_background": "light"
     },
     "output_type": "display_data"
    }
   ],
   "source": [
    "# Printing the top rank webpages in graph \n",
    "\n",
    "import numpy as np\n",
    "import matplotlib.pyplot as plt\n",
    "%matplotlib inline\n",
    "\n",
    "top30array = np.array(topTitles)\n",
    "top30names = top30array[:, 0]\n",
    "top30pagerank = top30array[:, 2].astype('float')\n",
    "\n",
    "def plotPageRanks(rows, cols, idx, y, x, title):\n",
    "    ax = plt.subplot(rows, cols, idx)\n",
    "    ax.barh(y, x, height=0.5, tick_label=top30names, color='blue', edgecolor='black')\n",
    "    ax.spines['left'].set_visible(True)\n",
    "    ax.get_yaxis().tick_left()\n",
    "    plt.title(title)\n",
    "    plt.xlabel('PageRank score')\n",
    "    plt.ylabel('Top Webpages in hyperlinked wikipedia')\n",
    "    \n",
    "y = list(range(30))         # converting to list since Python3 returns object in range, whereas python2 automatically returns a list in range\n",
    "y.reverse()\n",
    "\n",
    "plt.figure(figsize=(12, 16))\n",
    "plotPageRanks(1, 2, 1, y, top30pagerank, 'PageRank after 10 iterations')"
   ]
  },
  {
   "cell_type": "markdown",
   "metadata": {},
   "source": [
    "# B. Implement using both RDDs and DataFrames. Is this possible? What are the tradeoffs?\n"
   ]
  },
  {
   "cell_type": "code",
   "execution_count": 15,
   "metadata": {},
   "outputs": [],
   "source": [
    "# Creating DataFrame on the raw wikiGraphRDD\n",
    "# Just a plain transformation without defining the columns \n",
    "\n",
    "wikiDF = spark.createDataFrame(wikiGraphRDD)"
   ]
  },
  {
   "cell_type": "code",
   "execution_count": 12,
   "metadata": {},
   "outputs": [
    {
     "name": "stdout",
     "output_type": "stream",
     "text": [
      "+--------+--------------------+\n",
      "|      _1|                  _2|\n",
      "+--------+--------------------+\n",
      "|11777840|[6.58229177890845...|\n",
      "|    3306|[6.58229177890845...|\n",
      "|  677882|[6.58229177890845...|\n",
      "| 4378841|[6.58229177890845...|\n",
      "| 8986617|[6.58229177890845...|\n",
      "|11360324|[6.58229177890845...|\n",
      "| 6786010|[6.58229177890845...|\n",
      "|   12472|[6.58229177890845...|\n",
      "| 5964116|[6.58229177890845...|\n",
      "|   16182|[6.58229177890845...|\n",
      "| 9972558|[6.58229177890845...|\n",
      "| 8148955|[6.58229177890845...|\n",
      "| 8175275|[6.58229177890845...|\n",
      "| 4585011|[6.58229177890845...|\n",
      "|10065641|[6.58229177890845...|\n",
      "| 6884354|[6.58229177890845...|\n",
      "|12789437|[6.58229177890845...|\n",
      "| 9443071|[6.58229177890845...|\n",
      "| 9401906|[6.58229177890845...|\n",
      "|   21439|[6.58229177890845...|\n",
      "+--------+--------------------+\n",
      "only showing top 20 rows\n",
      "\n"
     ]
    }
   ],
   "source": [
    "wikiDF.show()"
   ]
  },
  {
   "cell_type": "code",
   "execution_count": 17,
   "metadata": {},
   "outputs": [],
   "source": [
    "# Create DataFrame on the output from the wikiGraph and Indices \n",
    "\n",
    "full_resultsDF = spark.createDataFrame(full_results).toDF(\"Index\", \"PageRank\")\n",
    "titlesDF = spark.createDataFrame(titles).toDF(\"Index\", \"Title\")"
   ]
  },
  {
   "cell_type": "code",
   "execution_count": 18,
   "metadata": {},
   "outputs": [
    {
     "name": "stdout",
     "output_type": "stream",
     "text": [
      "+--------+--------------------+\n",
      "|   Index|            PageRank|\n",
      "+--------+--------------------+\n",
      "|14765621|7.275210235972736E-6|\n",
      "|11777840|8.140956028959344E-8|\n",
      "|    3306|3.677808622670605...|\n",
      "|  677882|5.031884267205474...|\n",
      "| 4378841|1.666599789261562...|\n",
      "| 8986617|1.829416714352075...|\n",
      "|11360324|1.123819284727364...|\n",
      "| 3942258|6.576873267268602E-7|\n",
      "| 6786010|3.656328204726229E-8|\n",
      "|   12472|7.482664167991034E-8|\n",
      "| 5964116|3.017498478954642E-7|\n",
      "|  826261|1.299446812810989...|\n",
      "|10527303|1.776064608121713...|\n",
      "| 9972558|1.217129597091989...|\n",
      "|   16182|1.383093167162913E-7|\n",
      "| 8148955|1.751351082890686E-6|\n",
      "| 8175275|5.287947354877229E-6|\n",
      "| 6801676|6.033144088457158E-8|\n",
      "| 4220534|7.507936378955555E-8|\n",
      "| 5479923|1.668541065382351...|\n",
      "+--------+--------------------+\n",
      "only showing top 20 rows\n",
      "\n",
      "+-----+--------------------+\n",
      "|Index|               Title|\n",
      "+-----+--------------------+\n",
      "|    1|! $var = &quot;&q...|\n",
      "|    2|! (CONFIG.SYS dir...|\n",
      "|    3|           ! (album)|\n",
      "|    4|  ! (disambiguation)|\n",
      "|    5|       ! -attention-|\n",
      "|    6|         ! Time Zone|\n",
      "|    7|          !! (chess)|\n",
      "|    8| !! (disambiguation)|\n",
      "|    9|   !!! (Chk Chk Chk)|\n",
      "|   10|         !!! (album)|\n",
      "|   11|     !!! Chk Chk Chk|\n",
      "|   12|                 !!!|\n",
      "|   13|!!!Fuck You!!! An...|\n",
      "|   14|!!!Fuck You!!! an...|\n",
      "|   15|      !!!Fuck You!!!|\n",
      "|   16|                  !!|\n",
      "|   17|  !!Destroy-Oh-Boy!!|\n",
      "|   18|        !!Fuck you!!|\n",
      "|   19|                 !!M|\n",
      "|   20|                   !|\n",
      "+-----+--------------------+\n",
      "only showing top 20 rows\n",
      "\n"
     ]
    }
   ],
   "source": [
    "full_resultsDF.show()\n",
    "titlesDF.show()"
   ]
  },
  {
   "cell_type": "code",
   "execution_count": 19,
   "metadata": {},
   "outputs": [
    {
     "name": "stdout",
     "output_type": "stream",
     "text": [
      "root\n",
      " |-- Index: string (nullable = true)\n",
      " |-- PageRank: double (nullable = true)\n",
      "\n",
      "root\n",
      " |-- Index: string (nullable = true)\n",
      " |-- Title: string (nullable = true)\n",
      "\n"
     ]
    }
   ],
   "source": [
    "full_resultsDF.printSchema()\n",
    "titlesDF.printSchema()"
   ]
  },
  {
   "cell_type": "code",
   "execution_count": 20,
   "metadata": {},
   "outputs": [],
   "source": [
    "fullDF = full_resultsDF.join(titlesDF, \"Index\")"
   ]
  },
  {
   "cell_type": "markdown",
   "metadata": {},
   "source": [
    "### Tradeoff between RDD and DataFrame\n",
    "\n",
    "A Spark DataFrame is a Dataset organized into named columns. It is conceptually equivalent to a table in a relational database or a data frame in R/Python, but with richer optimizations under the hood. DataFrames can be constructed from a wide array of sources such as: structured data files, tables in Hive, external databases, or existing RDDs. Spark DataFrame gives much easier access to high-level abstraction whereas RDD gives a low-level transformation such as lambda, map, flatmap, filter etc. \n",
    "\n",
    "The caveate in using DataFrame is when the data is extremely large, it would be impossible to do a parallel computation across different nodes, depending on the memory capacity. To do power iteration on DataFrame is executable to achieve the convergence when the entire data fit into a single node. However if the dataset is large, power iteration is impossible to execute across different nodes. In contrast, RDD allows a parallel computation easily. Rightly so, when the dataset is small, using RDD is an overkill and small dataset can be easily computed in DataFrame.  \n",
    "\n",
    "The tradeoff is the efficiency comes in each format and the amount of the data we are processing.\n"
   ]
  },
  {
   "cell_type": "markdown",
   "metadata": {},
   "source": [
    "## C. Run our 2GB wiki dataset through pagerank in graphframes and compare/contrast your implementation with GraphFrames."
   ]
  },
  {
   "cell_type": "markdown",
   "metadata": {},
   "source": [
    "Since GraphFrame has a name convention in its graph, i.e., `id` for nodes, `src` and `dst` for edges, we will first import our wikipedia data and transform them into GraphFrame such that webpage index becomes `id` and `src`, and the reachable webpages become `dst`. \n",
    "\n",
    "Observation \n",
    "\n",
    "My adventure with graphframes is I first tried to install graphframes locally, hoping I will work on a small dataset first until I become familiar with the graphframes command. There is a conflict with JDK (javac) in MacOS for graphframes. Apparently MacOS doesn't update their library quite often (/usr/libexec/) and graphframes require a higher version or so. StackOverflow study leads me to change this and that to bypass the MacOS old java and update the export path and such. So I ended up having two versions of java 1.8 and 11. Graphframes need java 11 but my pyspark in jupyter notebook doesn't work with java 11, presumably I need to fix that. My local MacOS has so many versions; standalone python2, python3, python from anaconda, pyspark and it's all messed up. \n",
    "\n",
    "\n",
    "\n",
    "### Accessing Data \n",
    "<a href=\"https://docs.databricks.com/user-guide/importing-data.html#importing-data\">Source</a>\n",
    "\n",
    "Source to study \n",
    "<a href=\"http://graphframes.github.io/graphframes/docs/_site/user-guide.html\">Here</a>"
   ]
  },
  {
   "cell_type": "code",
   "execution_count": 6,
   "metadata": {},
   "outputs": [],
   "source": [
    "from pyspark import *\n",
    "from pyspark.sql import *"
   ]
  },
  {
   "cell_type": "code",
   "execution_count": 7,
   "metadata": {},
   "outputs": [],
   "source": [
    "from graphframe import *\n",
    "from functools import reduce\n",
    "from pyspark.sql.functions import col, lit, when"
   ]
  },
  {
   "cell_type": "markdown",
   "metadata": {},
   "source": [
    "### Preliminary trial\n",
    "\n",
    "To get familiar with the graphframes command, I first tried with the small dataset from the randNet.txt which is meant to be for topic-specific pagerank. But I thought we can still implement the dataset with graphframes. "
   ]
  },
  {
   "cell_type": "code",
   "execution_count": 8,
   "metadata": {},
   "outputs": [],
   "source": [
    "# small dataset trial \n",
    "# Loading the data\n",
    "\n",
    "randNetRDD = sc.textFile('randNet.txt')\n",
    "randNet_topicsRDD = sc.textFile('randNet_topics.txt')"
   ]
  },
  {
   "cell_type": "code",
   "execution_count": 40,
   "metadata": {},
   "outputs": [],
   "source": [
    "# part c - job to initialize the graph (RUN THIS CELL AS IS)\n",
    "def initGF(dataRDD):\n",
    "\n",
    "    # write any helper functions here\n",
    "    def parse(line):\n",
    "        node, edges = line.split('\\t')\n",
    "        return (node, ast.literal_eval(edges))\n",
    "    \n",
    "    def adjList(pair):\n",
    "        node, edges = pair\n",
    "        for edge in edges.keys():\n",
    "            yield (node, edge)\n",
    " \n",
    "    # write your main Spark code here\n",
    "    \n",
    "    tempRDD = dataRDD.map(parse) \\\n",
    "                    .flatMap(adjList) \\\n",
    "                    .cache()\n",
    "    \n",
    "    GfRDD = tempRDD.map(lambda x: (x[0], x[1]))\n",
    "    \n",
    "    ############## (END) YOUR CODE ##############\n",
    "    \n",
    "    return GfRDD"
   ]
  },
  {
   "cell_type": "code",
   "execution_count": 10,
   "metadata": {},
   "outputs": [],
   "source": [
    "def initVertices(dataRDD):\n",
    " \n",
    "    def parse(line):\n",
    "        node, edges = line.split('\\t')\n",
    "        return (node, ast.literal_eval(edges))\n",
    "\n",
    "    return dataRDD.map(parse)"
   ]
  },
  {
   "cell_type": "code",
   "execution_count": 11,
   "metadata": {},
   "outputs": [
    {
     "name": "stdout",
     "output_type": "stream",
     "text": [
      "+---+--------------------+\n",
      "| id|           neighbors|\n",
      "+---+--------------------+\n",
      "|  1|[11 -> 1, 89 -> 1...|\n",
      "|  2|[67 -> 1, 69 -> 1...|\n",
      "|  3|[22 -> 1, 28 -> 1...|\n",
      "|  4|[88 -> 1, 100 -> ...|\n",
      "|  5|[100 -> 1, 35 -> ...|\n",
      "+---+--------------------+\n",
      "only showing top 5 rows\n",
      "\n",
      "+---+---+\n",
      "|src|dst|\n",
      "+---+---+\n",
      "|  1| 11|\n",
      "|  1| 27|\n",
      "|  1| 46|\n",
      "|  1| 47|\n",
      "|  1| 35|\n",
      "+---+---+\n",
      "only showing top 5 rows\n",
      "\n",
      "+---+--------+\n",
      "| id|inDegree|\n",
      "+---+--------+\n",
      "|  7|       8|\n",
      "| 51|      11|\n",
      "| 15|      16|\n",
      "| 54|       8|\n",
      "| 11|       9|\n",
      "+---+--------+\n",
      "only showing top 5 rows\n",
      "\n",
      "+---+---------+\n",
      "| id|outDegree|\n",
      "+---+---------+\n",
      "|  7|        7|\n",
      "| 51|       11|\n",
      "| 15|        9|\n",
      "| 54|       12|\n",
      "| 11|        9|\n",
      "+---+---------+\n",
      "only showing top 5 rows\n",
      "\n"
     ]
    }
   ],
   "source": [
    "# initialize\n",
    "randGF = initGF(randNetRDD)\n",
    "vertices = initVertices(randNetRDD)\n",
    "\n",
    "# for vertices\n",
    "\n",
    "vertices = spark.createDataFrame(vertices).toDF(\"id\", \"neighbors\")\n",
    "vertices = vertices.withColumnRenamed(\"id\",\"id\")\n",
    "#vertices = spark.createDataFrame(randGF).toDF(\"id\", \"neighbors\").distinct()\n",
    "\n",
    "# for edges \n",
    "edges = spark.createDataFrame(randGF).toDF(\"src\", \"dst\")\n",
    "\n",
    "# graphframe\n",
    "gf = GraphFrame(vertices, edges)\n",
    "\n",
    "gf.vertices.show(5)\n",
    "gf.edges.show(5)\n",
    "gf.inDegrees.show(5)\n",
    "gf.outDegrees.show(5)"
   ]
  },
  {
   "cell_type": "code",
   "execution_count": 16,
   "metadata": {},
   "outputs": [
    {
     "name": "stdout",
     "output_type": "stream",
     "text": [
      "+---+--------------------+------------------+\n",
      "| id|           neighbors|          pagerank|\n",
      "+---+--------------------+------------------+\n",
      "| 15|[99 -> 1, 45 -> 1...| 1.635632283449189|\n",
      "| 74|[99 -> 1, 33 -> 1...|1.5969185600654805|\n",
      "| 63|[44 -> 1, 11 -> 1...|1.5770941935471254|\n",
      "|100|[33 -> 1, 67 -> 1...| 1.537650804799068|\n",
      "| 85|[78 -> 1, 56 -> 1...|1.5178520144363135|\n",
      "|  9|[66 -> 1, 55 -> 1...|1.5032514700360515|\n",
      "| 58|[33 -> 1, 56 -> 1...|1.4828157341893369|\n",
      "| 71|[11 -> 1, 13 -> 1...| 1.449086472549336|\n",
      "| 61|[35 -> 1, 14 -> 1...|1.4407046165411221|\n",
      "| 52|[79 -> 1, 58 -> 1...|1.4311040206523382|\n",
      "| 77|[11 -> 1, 36 -> 1...| 1.366428606722649|\n",
      "| 92|[55 -> 1, 22 -> 1...|1.3647857527660308|\n",
      "| 32|[99 -> 1, 57 -> 1...| 1.330839701801344|\n",
      "| 13|[77 -> 1, 92 -> 1...| 1.317822564388635|\n",
      "| 88|[66 -> 1, 24 -> 1...| 1.313854645118923|\n",
      "| 70|[66 -> 1, 88 -> 1...| 1.306932967691192|\n",
      "| 17|[78 -> 1, 35 -> 1...| 1.306580862964503|\n",
      "| 25|[70 -> 1, 81 -> 1...| 1.295884667703582|\n",
      "| 90|[99 -> 1, 67 -> 1...|1.2861633575744869|\n",
      "| 49|[44 -> 1, 67 -> 1...|1.2549189528363056|\n",
      "+---+--------------------+------------------+\n",
      "only showing top 20 rows\n",
      "\n"
     ]
    }
   ],
   "source": [
    "results = gf.pageRank(resetProbability=0.15, maxIter=10)\n",
    "results.vertices.sort(\"pagerank\", ascending=False).show()"
   ]
  },
  {
   "cell_type": "markdown",
   "metadata": {},
   "source": [
    "## Implementing the test graph in graphframes"
   ]
  },
  {
   "cell_type": "code",
   "execution_count": 42,
   "metadata": {},
   "outputs": [
    {
     "name": "stdout",
     "output_type": "stream",
     "text": [
      "+---+--------------------+\n",
      "| id|           neighbors|\n",
      "+---+--------------------+\n",
      "|  4|[0.09090909090909...|\n",
      "|  1|[0.09090909090909...|\n",
      "|  8|[0.09090909090909...|\n",
      "|  9|[0.09090909090909...|\n",
      "| 10|[0.09090909090909...|\n",
      "+---+--------------------+\n",
      "only showing top 5 rows\n",
      "\n",
      "+---+---+\n",
      "|src|dst|\n",
      "+---+---+\n",
      "|  2|  3|\n",
      "|  3|  2|\n",
      "|  4|  1|\n",
      "|  4|  2|\n",
      "|  5|  4|\n",
      "+---+---+\n",
      "only showing top 5 rows\n",
      "\n",
      "+---+--------+\n",
      "| id|inDegree|\n",
      "+---+--------+\n",
      "|  3|       1|\n",
      "|  5|       6|\n",
      "|  6|       1|\n",
      "|  1|       1|\n",
      "|  4|       1|\n",
      "+---+--------+\n",
      "only showing top 5 rows\n",
      "\n",
      "+---+---------+\n",
      "| id|outDegree|\n",
      "+---+---------+\n",
      "|  7|        2|\n",
      "| 11|        1|\n",
      "|  3|        1|\n",
      "|  8|        2|\n",
      "|  5|        3|\n",
      "+---+---------+\n",
      "only showing top 5 rows\n",
      "\n"
     ]
    }
   ],
   "source": [
    "vertices = spark.createDataFrame(testGraph).toDF(\"id\", \"neighbors\")\n",
    "vertices = vertices.withColumnRenamed(\"id\",\"id\")\n",
    "#vertices = spark.createDataFrame(randGF).toDF(\"id\", \"neighbors\").distinct()\n",
    "\n",
    "# for edges\n",
    "edges = initGF(testRDD)\n",
    "edges = spark.createDataFrame(edges).toDF(\"src\", \"dst\")\n",
    "\n",
    "# graphframe\n",
    "gf_test = GraphFrame(vertices, edges)\n",
    "\n",
    "gf_test.vertices.show(5)\n",
    "gf_test.edges.show(5)\n",
    "gf_test.inDegrees.show(5)\n",
    "gf_test.outDegrees.show(5)"
   ]
  },
  {
   "cell_type": "code",
   "execution_count": 45,
   "metadata": {},
   "outputs": [
    {
     "name": "stdout",
     "output_type": "stream",
     "text": [
      "+---+--------------------+-------------------+\n",
      "| id|           neighbors|           pagerank|\n",
      "+---+--------------------+-------------------+\n",
      "|  2|[0.09090909090909...|  4.175619035367757|\n",
      "|  3|[0.09090909090909...|  3.824804532661322|\n",
      "|  5|[0.09090909090909...| 0.8897426255078121|\n",
      "|  6|[0.09090909090909...|0.42995801798029976|\n",
      "|  4|[0.09090909090909...|0.42995801798029976|\n",
      "|  1|[0.09090909090909...|0.36059642483658905|\n",
      "|  9|[0.09090909090909...|0.17786426913318423|\n",
      "| 10|[0.09090909090909...|0.17786426913318423|\n",
      "|  8|[0.09090909090909...|0.17786426913318423|\n",
      "|  7|[0.09090909090909...|0.17786426913318423|\n",
      "| 11|[0.09090909090909...|0.17786426913318423|\n",
      "+---+--------------------+-------------------+\n",
      "\n"
     ]
    }
   ],
   "source": [
    "results2 = gf_test.pageRank(resetProbability=0.15, maxIter=20)\n",
    "results2.vertices.sort(\"pagerank\", ascending=False).show()"
   ]
  },
  {
   "cell_type": "code",
   "execution_count": null,
   "metadata": {},
   "outputs": [],
   "source": [
    "## testgraph results from HW5 for comparison"
   ]
  },
  {
   "cell_type": "code",
   "execution_count": 21,
   "metadata": {},
   "outputs": [
    {
     "name": "stdout",
     "output_type": "stream",
     "text": [
      "... test graph initialized in 0.21784281730651855 seconds.\n"
     ]
    },
    {
     "data": {
      "text/plain": [
       "[('4', (0.09090909090909091, ['1', '2'])),\n",
       " ('1', (0.09090909090909091, [])),\n",
       " ('8', (0.09090909090909091, ['2', '5'])),\n",
       " ('9', (0.09090909090909091, ['2', '5'])),\n",
       " ('10', (0.09090909090909091, ['5'])),\n",
       " ('2', (0.09090909090909091, ['3'])),\n",
       " ('3', (0.09090909090909091, ['2'])),\n",
       " ('5', (0.09090909090909091, ['4', '2', '6'])),\n",
       " ('6', (0.09090909090909091, ['2', '5'])),\n",
       " ('7', (0.09090909090909091, ['2', '5'])),\n",
       " ('11', (0.09090909090909091, ['5']))]"
      ]
     },
     "execution_count": 21,
     "metadata": {},
     "output_type": "execute_result"
    }
   ],
   "source": [
    "# part c - run your Spark job on the test graph (RUN THIS CELL AS IS)\n",
    "start = time.time()\n",
    "testGraph = initGraph(testRDD).collect()\n",
    "print(f'... test graph initialized in {time.time() - start} seconds.')\n",
    "testGraph"
   ]
  },
  {
   "cell_type": "code",
   "execution_count": 22,
   "metadata": {},
   "outputs": [
    {
     "name": "stdout",
     "output_type": "stream",
     "text": [
      "...trained 20 iterations in 2.7011358737945557 seconds.\n",
      "Top 20 ranked nodes:\n"
     ]
    },
    {
     "data": {
      "text/plain": [
       "[('2', 0.38031552249156747),\n",
       " ('3', 0.3469932932917439),\n",
       " ('5', 0.08088637369406641),\n",
       " ('4', 0.039087602168414746),\n",
       " ('6', 0.039087602168414746),\n",
       " ('1', 0.032781877034008526),\n",
       " ('8', 0.01616954583035677),\n",
       " ('9', 0.01616954583035677),\n",
       " ('10', 0.01616954583035677),\n",
       " ('7', 0.01616954583035677),\n",
       " ('11', 0.01616954583035677)]"
      ]
     },
     "execution_count": 22,
     "metadata": {},
     "output_type": "execute_result"
    }
   ],
   "source": [
    "# part d - run PageRank on the test graph (RUN THIS CELL AS IS)\n",
    "# NOTE: while developing your code you may want turn on the verbose option\n",
    "nIter = 20\n",
    "testGraphRDD = initGraph(testRDD)\n",
    "start = time.time()\n",
    "test_results = runPageRank(testGraphRDD, alpha = 0.15, maxIter = nIter, verbose = False)\n",
    "print(f'...trained {nIter} iterations in {time.time() - start} seconds.')\n",
    "print(f'Top 20 ranked nodes:')\n",
    "test_results.takeOrdered(20, key=lambda x: - x[1])"
   ]
  },
  {
   "cell_type": "markdown",
   "metadata": {},
   "source": [
    "## Results \n",
    "\n",
    "GraphFrames implmentation is so much faster and intuitive with `id`, `src` and `dst` mandatory features. \n",
    "\n",
    "To run 2GB wiki dataset, I first tested in my local MacbookPro but computer performance has been very slow. So I provisioned GCP instance and tried to run graphframe in jupyter notebook pyspark. But there's an issue with installing graphframes in python. So I stopped implmeneting the graphframes for 2GB wikidataset. But I learned the powerful implemention in graphframes for pagerank. \n",
    "\n",
    "There's also interesting observation that Graphframes pagerank tend to have a higher values in the top ranked nodes, observed in **randNet.txt** and **test_graph.txt**"
   ]
  },
  {
   "cell_type": "markdown",
   "metadata": {},
   "source": [
    "# D. Implement Topic Specific PageRank"
   ]
  },
  {
   "cell_type": "markdown",
   "metadata": {},
   "source": [
    "## Topic Specific Instructions\n",
    "\n",
    "Modify your PageRank implementation to produce a topic specific PageRank implementation,\n",
    "as described in:\n",
    "\n",
    "http://www-cs-students.stanford.edu/~taherh/papers/topic-sensitive-pagerank.pdf\n",
    "\n",
    "\n",
    "Note in this article that there is a special caveat to ensure that the transition matrix is irreducible.\n",
    "This caveat lies in footnote 3 on page 3:\n",
    "\n",
    "\n",
    "A minor caveat: to ensure that M is irreducible when p\n",
    "contains any 0 entries, nodes not reachable from nonzero\n",
    "nodes in p should be removed. In practice this is not problematic.\n",
    "and must be adhered to for convergence to be guaranteed.\n",
    "\n",
    "\n",
    "Run topic specific PageRank on the provided randomly generated network of 100 nodes:\n",
    "\n",
    "\n",
    "`randNet.txt`\n",
    "\n",
    "which are organized into ten topics, as described in the file:\n",
    "\n",
    "\n",
    "`randNet_topics.txt`\n",
    "\n",
    "\n",
    "Since there are 10 topics, your result should be 11 PageRank vectors\n",
    "(one for the vanilla PageRank implementation in 9.1, and one for each topic\n",
    "with the topic specific implementation). Print out the top ten ranking nodes \n",
    "and their topics for each of the 11 versions, and comment on your result. \n",
    "Assume a teleportation factor of 0.15 in all your analyses.\n",
    "\n",
    "\n",
    "One final and important comment here:  please consider the \n",
    "requirements for irreducibility with topic-specific PageRank.\n",
    "In particular, the literature ensures irreducibility by requiring that\n",
    "nodes not reachable from in-topic nodes be removed from the network.\n",
    "\n",
    "\n",
    "This is not a small task, especially as it it must be performed\n",
    "separately for each of the (10) topics.\n",
    "\n",
    "\n",
    "So, instead of using this method for irreducibility, \n",
    "please comment on why the literature's method is difficult to implement,\n",
    "and what what extra computation it will require.\n",
    "Then for your code, please use the alternative, \n",
    "non-uniform damping vector:\n",
    "\n",
    "$$v_{ji} = beta*\\left(\\frac{1}{|T_j|}\\right) \\ if \\ node  \\ i \\ lies \\ in \\ topic \\ T_j$$\n",
    "\n",
    "$$v_{ji} = (1-beta)*\\left(\\frac{1}{N - |T_j|}\\right) \\ if \\ node \\ i \\ lies \\ outside \\ of \\ topic \\ T_j$$\n",
    " \n",
    "for beta in (0,1) close to 1. \n",
    "\n",
    "With this approach, you will not have to delete any nodes.\n",
    "If beta > 0.5, PageRank is topic-sensitive, \n",
    "and if beta < 0.5, the PageRank is anti-topic-sensitive. \n",
    "For any value of beta irreducibility should hold,\n",
    "so please try beta=0.99, and perhaps some other values locally,\n",
    "on the smaller networks."
   ]
  },
  {
   "cell_type": "code",
   "execution_count": 7,
   "metadata": {},
   "outputs": [],
   "source": [
    "# Loading the data\n",
    "\n",
    "randNetRDD = sc.textFile('randNet.txt')\n",
    "randNet_topicsRDD = sc.textFile('randNet_topics.txt')"
   ]
  },
  {
   "cell_type": "code",
   "execution_count": 8,
   "metadata": {},
   "outputs": [
    {
     "name": "stdout",
     "output_type": "stream",
     "text": [
      "1\t{'11': 1, '27': 1, '46': 1, '47': 1, '35': 1, '89': 1, '63': 1, '5': 1}\n",
      "2\t{'26': 1, '32': 1, '67': 1, '37': 1, '29': 1, '5': 1, '8': 1, '6': 1, '69': 1, '95': 1, '94': 1, '72': 1}\n",
      "3\t{'39': 1, '22': 1, '28': 1, '61': 1, '73': 1, '90': 1}\n",
      "4\t{'15': 1, '16': 1, '37': 1, '88': 1, '35': 1, '75': 1, '74': 1, '73': 1, '83': 1, '100': 1}\n",
      "5\t{'38': 1, '54': 1, '29': 1, '35': 1, '41': 1, '62': 1, '73': 1, '83': 1, '100': 1, '95': 1, '84': 1}\n",
      "6\t{'21': 1, '19': 1, '30': 1, '76': 1, '2': 1, '100': 1, '81': 1}\n",
      "7\t{'12': 1, '16': 1, '44': 1, '53': 1, '98': 1, '63': 1, '8': 1}\n",
      "8\t{'27': 1, '56': 1, '30': 1, '93': 1, '99': 1, '64': 1, '9': 1, '90': 1, '100': 1, '92': 1, '86': 1, '87': 1}\n",
      "9\t{'25': 1, '14': 1, '23': 1, '55': 1, '43': 1, '40': 1, '62': 1, '66': 1, '70': 1, '80': 1}\n",
      "10\t{'38': 1, '49': 1, '46': 1, '47': 1, '28': 1, '53': 1, '61': 1, '89': 1, '64': 1, '80': 1}\n"
     ]
    }
   ],
   "source": [
    "!head randNet.txt"
   ]
  },
  {
   "cell_type": "code",
   "execution_count": 9,
   "metadata": {},
   "outputs": [
    {
     "name": "stdout",
     "output_type": "stream",
     "text": [
      "1\t10\n",
      "2\t3\n",
      "3\t10\n",
      "4\t5\n",
      "5\t5\n",
      "6\t8\n",
      "7\t10\n",
      "8\t8\n",
      "9\t2\n",
      "10\t1\n"
     ]
    }
   ],
   "source": [
    "!head randNet_topics.txt"
   ]
  },
  {
   "cell_type": "code",
   "execution_count": 26,
   "metadata": {},
   "outputs": [],
   "source": [
    "# part c - job to initialize the graph (RUN THIS CELL AS IS)\n",
    "def initGraphTopics(dataRDD, topicsRDD, nodes=100, topics=10):\n",
    "    \"\"\"\n",
    "    Spark job to initialize the RDD by combining the nodes and its associated topic, and \n",
    "    probability mass for all the 10 topics with an extra column for ordinary pagerank. \n",
    "    \n",
    "    node, {neighbor dictionary} | topic | [t1, t2, t3, t4, t5, t6, t7, t8, t9, t10, notopic]\n",
    "    \"\"\"\n",
    "    ############## YOUR CODE HERE ###############\n",
    "\n",
    "    # teleportation:\n",
    "    nodes_no = sc.broadcast(nodes)\n",
    "    \n",
    "    # damping factor:\n",
    "    topics_no = sc.broadcast(topics)\n",
    "    \n",
    "    # initialize accumulators for dangling mass & total mass\n",
    "    mmAccum = sc.accumulator(0.0)\n",
    "    totAccum = sc.accumulator(0.0)\n",
    "    \n",
    "    # write any helper functions here\n",
    "    def parse(line):\n",
    "        node, edges = line.split('\\t')\n",
    "        return node, ast.literal_eval(edges) \n",
    "    \n",
    "    def node_topics_split(line):\n",
    "        node, topic = line.split('\\t')\n",
    "        return node, topic\n",
    "    \n",
    "    def add_rank(line):\n",
    "        node = line[0]\n",
    "        edges = str(line[1][0])\n",
    "        topic = line[1][1]\n",
    "        node_info = edges + '|' + topic + '|' + str([1.0/nodes_no.value] * (topics_no.value + 1))  \n",
    "        return node, node_info\n",
    "        \n",
    "    # write your main Spark code here\n",
    "    \n",
    "    tempRDD = dataRDD.map(parse) \\\n",
    "                    .cache()\n",
    "\n",
    "    topRDD = topicsRDD.map(node_topics_split) \\\n",
    "                    .cache()\n",
    "    \n",
    "    node_topicsRDD = tempRDD.join(topRDD) \\\n",
    "                        .map(lambda x: [x[0], x[1]] ) \\\n",
    "                        .map(add_rank) \\\n",
    "                        .cache()\n",
    "    \n",
    "    ############## (END) YOUR CODE ##############\n",
    "    \n",
    "    return node_topicsRDD"
   ]
  },
  {
   "cell_type": "code",
   "execution_count": 11,
   "metadata": {},
   "outputs": [
    {
     "name": "stdout",
     "output_type": "stream",
     "text": [
      "... full graph initialized in 0.23900508880615234 seconds\n"
     ]
    }
   ],
   "source": [
    "# part c - run your code on the main graph (RUN THIS CELL AS IS)\n",
    "start = time.time()\n",
    "randGraphRDD = initGraphTopics(randNetRDD, randNet_topicsRDD, nodes=100, topics=10)\n",
    "print(f'... full graph initialized in {time.time() - start} seconds')"
   ]
  },
  {
   "cell_type": "code",
   "execution_count": 12,
   "metadata": {},
   "outputs": [],
   "source": [
    "!rm -rf data/randGraph\n",
    "randGraphRDD.coalesce(1).saveAsTextFile(\"data/randGraph\")"
   ]
  },
  {
   "cell_type": "code",
   "execution_count": 13,
   "metadata": {},
   "outputs": [
    {
     "name": "stdout",
     "output_type": "stream",
     "text": [
      "('4', \"{'15': 1, '16': 1, '37': 1, '88': 1, '35': 1, '75': 1, '74': 1, '73': 1, '83': 1, '100': 1}|5|[0.01, 0.01, 0.01, 0.01, 0.01, 0.01, 0.01, 0.01, 0.01, 0.01, 0.01]\")\n",
      "('10', \"{'38': 1, '49': 1, '46': 1, '47': 1, '28': 1, '53': 1, '61': 1, '89': 1, '64': 1, '80': 1}|1|[0.01, 0.01, 0.01, 0.01, 0.01, 0.01, 0.01, 0.01, 0.01, 0.01, 0.01]\")\n",
      "('12', \"{'26': 1, '59': 1, '16': 1, '33': 1, '29': 1, '99': 1, '88': 1, '2': 1, '100': 1, '95': 1}|2|[0.01, 0.01, 0.01, 0.01, 0.01, 0.01, 0.01, 0.01, 0.01, 0.01, 0.01]\")\n",
      "('16', \"{'24': 1, '10': 1, '58': 1, '57': 1, '65': 1, '9': 1, '85': 1}|1|[0.01, 0.01, 0.01, 0.01, 0.01, 0.01, 0.01, 0.01, 0.01, 0.01, 0.01]\")\n",
      "('20', \"{'24': 1, '15': 1, '48': 1, '49': 1, '16': 1, '75': 1, '53': 1, '52': 1, '62': 1, '67': 1, '68': 1, '59': 1, '100': 1, '95': 1}|3|[0.01, 0.01, 0.01, 0.01, 0.01, 0.01, 0.01, 0.01, 0.01, 0.01, 0.01]\")\n",
      "('24', \"{'14': 1, '32': 1, '42': 1, '50': 1, '53': 1, '29': 1, '74': 1, '66': 1, '54': 1, '83': 1, '100': 1, '92': 1, '94': 1, '96': 1}|9|[0.01, 0.01, 0.01, 0.01, 0.01, 0.01, 0.01, 0.01, 0.01, 0.01, 0.01]\")\n",
      "('26', \"{'11': 1, '27': 1, '7': 1, '42': 1, '34': 1, '71': 1, '6': 1, '9': 1}|1|[0.01, 0.01, 0.01, 0.01, 0.01, 0.01, 0.01, 0.01, 0.01, 0.01, 0.01]\")\n",
      "('40', \"{'58': 1, '56': 1, '61': 1, '88': 1, '4': 1, '90': 1, '92': 1, '97': 1}|3|[0.01, 0.01, 0.01, 0.01, 0.01, 0.01, 0.01, 0.01, 0.01, 0.01, 0.01]\")\n",
      "('44', \"{'85': 1, '51': 1, '40': 1, '41': 1}|1|[0.01, 0.01, 0.01, 0.01, 0.01, 0.01, 0.01, 0.01, 0.01, 0.01, 0.01]\")\n",
      "('50', \"{'11': 1, '60': 1, '27': 1, '21': 1, '17': 1, '28': 1, '51': 1, '29': 1, '1': 1, '61': 1, '89': 1}|7|[0.01, 0.01, 0.01, 0.01, 0.01, 0.01, 0.01, 0.01, 0.01, 0.01, 0.01]\")\n"
     ]
    }
   ],
   "source": [
    "!head data/randGraph/part-00000"
   ]
  },
  {
   "cell_type": "code",
   "execution_count": 14,
   "metadata": {},
   "outputs": [],
   "source": [
    "from pyspark.accumulators import AccumulatorParam\n",
    "\n",
    "class VectorAccumulatorParam(AccumulatorParam):\n",
    "    def zero(self, value):\n",
    "        return [0.0] * len(value)\n",
    "    def addInPlace(self, val1, val2):\n",
    "        for i in range(len(val1)):\n",
    "            val1[i] += val2[i]\n",
    "        return val1"
   ]
  },
  {
   "cell_type": "code",
   "execution_count": 15,
   "metadata": {},
   "outputs": [],
   "source": [
    "def topicsCount(dataRDD):\n",
    "    def parse(line):\n",
    "        node, topic = line.split('\\t')\n",
    "        return (int(topic), int(node))\n",
    "    \n",
    "    def count_topics(line):\n",
    "        topic, nd_list = line\n",
    "        total = len(nd_list)\n",
    "        return (topic, total)\n",
    "        \n",
    "    tempRDD = dataRDD.map(parse) \\\n",
    "                        .groupByKey().mapValues(list) \\\n",
    "                        .map(count_topics)\n",
    "                        \n",
    "    return tempRDD"
   ]
  },
  {
   "cell_type": "code",
   "execution_count": 16,
   "metadata": {},
   "outputs": [
    {
     "name": "stdout",
     "output_type": "stream",
     "text": [
      "Time taken 0.021818161010742188\n",
      "(10, 12)\n",
      "(8, 9)\n",
      "(2, 8)\n",
      "(6, 6)\n",
      "(4, 13)\n",
      "(3, 9)\n",
      "(5, 9)\n",
      "(1, 17)\n",
      "(9, 7)\n",
      "(7, 10)\n"
     ]
    }
   ],
   "source": [
    "start = time.time()\n",
    "topics_count = topicsCount(randNet_topicsRDD)\n",
    "print(\"Time taken {}\".format(time.time() - start))\n",
    "!rm -rf data/topicsCount\n",
    "topics_count.coalesce(1).saveAsTextFile(\"data/topicsCount\")\n",
    "!head data/topicsCount/part-00000"
   ]
  },
  {
   "cell_type": "code",
   "execution_count": 17,
   "metadata": {},
   "outputs": [
    {
     "data": {
      "text/plain": [
       "{10: 12, 8: 9, 2: 8, 6: 6, 4: 13, 3: 9, 5: 9, 1: 17, 9: 7, 7: 10}"
      ]
     },
     "execution_count": 17,
     "metadata": {},
     "output_type": "execute_result"
    }
   ],
   "source": [
    "tc = topics_count.collect()\n",
    "topics_count_dict = {}\n",
    "for item in tc:\n",
    "    topic, count = item\n",
    "    topics_count_dict[topic] = count\n",
    "topics_count_dict"
   ]
  },
  {
   "cell_type": "markdown",
   "metadata": {},
   "source": [
    "## My Spark Implemention of topic specific pagerank in details\n",
    "\n",
    "### Step 1\n",
    "\n",
    "I first initalized the two files into RDD emitted format and joined them based on the common **nodes or webpages id**. I also added probability mass list for all the topic but to retain global pagerank, I added an extra column. So the total items in the probability list become `11`. \n",
    "\n",
    "`[ t1, t2, t3, t4, t5, t6, t7, t8, t9, t10, notopic]`\n",
    "\n",
    "The emitted output RDD has the following format.  \n",
    "`node, {edges} | topic | pr_list = ('4', \"{'15': 1, '16': 1, '37': 1, '88': 1, '35': 1, '75': 1, '74': 1, '73': 1, '83': 1, '100': 1}|5|[0.01, 0.01, 0.01, 0.01, 0.01, 0.01, 0.01, 0.01, 0.01, 0.01, 0.01]\")`\n",
    "\n",
    "### Step 2\n",
    "\n",
    "I counted the number of webpages for each topic and created the list into a dictionary. \n",
    "\n",
    "topics_count_dict = `{10: 12, 8: 9, 2: 8, 6: 6, 4: 13, 3: 9, 5: 9, 1: 17, 9: 7, 7: 10}`.  \n",
    "So there are `12` webpages related to topic `10`. So the count `12` becomes the `|T|` when we calculate the aggregate probability mass in the later step for the topic `10`. \n",
    "\n",
    "### Step 3 \n",
    "\n",
    "I first calculated the dangling mass or missing mass. Since there are not sinks in the randNet neighbors list, it's always `[0.0, 0.0, ..., 0.0]`. \n",
    "\n",
    "### Step 4 \n",
    "\n",
    "I combined all the mass. This is just a combination of all the mass received at each node and combined them. We haven't considered teleportation factor, damping factor, $\\beta$ yet. \n",
    "\n",
    "### Step 5 \n",
    "\n",
    "Updating the probability mass based on the topic \n",
    "\n",
    "The pr_list represents as follow: \n",
    "```\n",
    "> [ t1, t2, t3, t4, t5, t6, t7, t8, t9, t10, notopic]\n",
    "> [0.01, 0.01, 0.01, 0.01, 0.01, 0.01, 0.01, 0.01, 0.01, 0.01, 0.01]\n",
    "```\n",
    "\n",
    "As an example, We will go through all the topic for the node or the webpage id `16` here. The webpage `16` is related to the topic `1`. So when we update the pr_list, it will be different across all the values.\n",
    "```\n",
    "('16', \"{'24': 1, '10': 1, '58': 1, '57': 1, '65': 1, '9': 1, '85': 1}|1|[0.01, 0.01, 0.01, 0.01, 0.01, 0.01, 0.01, 0.01, 0.01, 0.01, 0.01]\")\n",
    "```\n",
    "\n",
    "We also need to know the webpages count for each topic. For example, since the webpage `16` is related to the topic `1`, we need to know how many webpages are related to the topic `1`. For that we can look up from the dictionary I created in the earlier step. There are `17` webpages related to the topic `1`. \n",
    "\n",
    "So we will update the first column which is for topic `1`. For column 1, it’d be an index[0] in python. The algorithm to update the probability mass is \n",
    "\n",
    "\n",
    "$P' = \\alpha \\times \\frac{\\beta}{17} + (1 - \\alpha) \\times \\frac{\\text{missing_mass[0]}}{|G|} + P[0]$\n",
    "\n",
    "where  \n",
    "> alpha = teleporation factor  \n",
    "> 1 - alpha = damping factor  \n",
    "> beta = topic-sensitivity factor, If beta > 0.5, PageRank is topic-sensitive, and if beta < 0.5, the PageRank is anti-topic-sensitive.  \n",
    "> |G| = total number of nodes   \n",
    "> P = probability mass accumulated from all the other nodes or webpages \n",
    "\n",
    "For column 2 to column 10, since they are outside of the topic in concern, i.e., `1`, we use different algorithm. \n",
    "\n",
    "$P' = \\alpha \\times \\frac{1- \\beta}{|G| - T} + (1 - \\alpha) \\times \\frac{\\text{missing_mass[1]}}{|G|} + P[1]$\n",
    "\n",
    "where \n",
    "> T = the count of the webpages for the current topic, in the example would be topic `2` \n",
    "\n",
    "For the last column (python index 10) no topic pagerank, \n",
    "\n",
    "$P' = \\alpha \\times \\frac{1}{|G|} + (1 - \\alpha) \\times \\frac{\\text{missing_mass[10]}}{|G|} + P[10]$ \n",
    "\n",
    "### Step 6 \n",
    "\n",
    "I executed 20, 50, 100, 200 iterations. 100 iteration is pretty decent. "
   ]
  },
  {
   "cell_type": "code",
   "execution_count": 19,
   "metadata": {},
   "outputs": [],
   "source": [
    "# part c - job to initialize the graph (RUN THIS CELL AS IS)\n",
    "def PageRankTopics(dataRDD, topicsCount, alpha=0.85, beta=0.99, nodes=100, topics=10, maxIter=10, verbose=True):\n",
    "\n",
    "    # teleportation:\n",
    "    a = sc.broadcast(1-alpha)\n",
    "    \n",
    "    # non-uniform factor:\n",
    "    b = sc.broadcast(beta)\n",
    "    \n",
    "    # initialize accumulators for dangling mass & total mass\n",
    "    mmAccum = sc.accumulator([0.0] * int(topics + 1), VectorAccumulatorParam())\n",
    "    totAccum = sc.accumulator([0.0] * int(topics + 1), VectorAccumulatorParam())\n",
    "\n",
    "    # write any helper functions here\n",
    "    \n",
    "    def calc_missing_mass(line):\n",
    "        \"\"\"accumulate all dangling node mass or missing mass\"\"\"\n",
    "        node, node_info = line\n",
    "        edges, topic, pr_list = node_info.split(\"|\")\n",
    "        \n",
    "        adjacency_dict = ast.literal_eval(edges)\n",
    "        page_rank_list = ast.literal_eval(pr_list)\n",
    "        \n",
    "        neighbors = len(adjacency_dict) \n",
    "        \n",
    "        if neighbors == 0:\n",
    "            mmAccum.add(page_rank_list)\n",
    "                   \n",
    "    def total_mass(line):\n",
    "        \"\"\"aggregate all the mass across all the nodes\"\"\"\n",
    "        node, node_info = line\n",
    "        edges, topic, pr_list = node_info.split(\"|\")\n",
    "        \n",
    "        adjacency_dict = ast.literal_eval(edges)\n",
    "        page_rank_list = ast.literal_eval(pr_list)\n",
    "        \n",
    "        totAccum.add(page_rank_list)\n",
    "        \n",
    "    def dist_prob(line):\n",
    "        node, node_info = line\n",
    "        edges, topic, pr_list = node_info.split(\"|\")\n",
    "        \n",
    "        adjacency_dict = ast.literal_eval(edges)\n",
    "        page_rank_list = ast.literal_eval(pr_list)\n",
    "        \n",
    "        neighbors = len(adjacency_dict) \n",
    "        \n",
    "        if neighbors == 0:\n",
    "            yield (node, [] + '|' + topic + '|' + [0.0] * (int(topics) + 1))\n",
    "        elif neighbors > 0:\n",
    "            page_rank_updated = [pr * 1.0/neighbors for pr in page_rank_list]    # pr = 0.01 already calculated value\n",
    "            for key in adjacency_dict.keys():\n",
    "                yield key, page_rank_updated  \n",
    "        adj_list = str(edges + '|' + topic + '|' + str([0.0] * (int(topics) + 1))) # for emitting itself with 0 probability mass\n",
    "        yield (node, adj_list)\n",
    "        \n",
    "    def combine_mass(line):\n",
    "        \"\"\"combining all probability mass. There are two conditions:\n",
    "        1. 'node, edges, topic, pr_list' coming to self node, pr_list is all 0.0 value\n",
    "        2. 'edge, probability_mass_list' coming to the same node from other nodes\"\"\"\n",
    "        \n",
    "        node, node_info = line\n",
    "        probability_mass_list = []\n",
    "        updated_page_rank = [0.0] * (int(topics) + 1)\n",
    "        \n",
    "        # first select the adjacency list either if it comes with 3 items or just a pagerank value\n",
    "        # if it equals the [0.01, 0.01, ....], it indicates it's just the list, so we append them\n",
    "        # if not, it must have come with 3 items: edges, topic, and pagerank value.\n",
    "        # if it comes 3 items, the pagerank value, assigned as pr_list will be just an empty, so no need to worry\n",
    "        # For all the other masses, we will combine them by column\n",
    "        for item in node_info:\n",
    "            if len(item) == int(topics) + 1:\n",
    "                probability_mass_list.append(item)           # this will be [[0.01, 0.01, ...], [0.0xx, 0.xxx, ..], ..[]]\n",
    "            else:\n",
    "                edges, topic, pr_list = item.split(\"|\")\n",
    "        \n",
    "        for value in probability_mass_list:\n",
    "            for k in range(len(value)):\n",
    "                updated_page_rank[k] += float(value[k])\n",
    "            \n",
    "        adj_list = edges + '|' + topic + '|' + str(updated_page_rank)\n",
    "        \n",
    "        return (node, adj_list)\n",
    "\n",
    "    def calc_final_mass(line):\n",
    "        \"\"\"calculate the final mass for topic sensitive page rank\n",
    "        also the ordinary pagerank\"\"\"\n",
    "        \n",
    "        node, node_info = line\n",
    "        edges, topic, pr_list = node_info.split(\"|\")\n",
    "        mass_list = ast.literal_eval(pr_list)\n",
    "        \n",
    "        updated_pagerank = []\n",
    "        \n",
    "        # going by append because this will serially update the topic specific pagerank \n",
    "        # into their specific column, the last column for the ordinary pagerank\n",
    "        # [t1, t2, t3, t4, t5, t6, t7, t8, t9, t10, notopic]\n",
    "        # tpsn_count = topic-specific node count \n",
    "        \n",
    "        for topic_number in range(1, topics+1):\n",
    "            tpsn_count = topicsCount[topic_number]\n",
    "            \n",
    "            if topic_number == int(topic):\n",
    "                updated_pagerank.append(a.value * (b.value/tpsn_count) + (1 - a.value) * (missing_mass[topic_number-1]/nodes + float(mass_list[topic_number-1])))\n",
    "            else:\n",
    "                updated_pagerank.append(a.value * ((1-b.value)/(nodes-tpsn_count)) + (1 - a.value) * (missing_mass[topic_number-1]/nodes + float(mass_list[topic_number-1])))\n",
    "          \n",
    "        # this is updating the final column \n",
    "        updated_pagerank.append(a.value * (1/nodes) + (1-a.value) * (missing_mass[topic_number-1]/nodes + float(mass_list[topic_number-1])))\n",
    "        \n",
    "        adj_list = edges + '|' + topic + '|' + str(updated_pagerank) \n",
    "    \n",
    "        return (node, adj_list)    \n",
    "\n",
    "    # main spark code\n",
    "    \n",
    "    tempRDD = dataRDD\n",
    "    \n",
    "    for i in range(maxIter):\n",
    "        \n",
    "        #step1: accumulate dangling mass\n",
    "        tempRDD.foreach(calc_missing_mass)\n",
    "        missing_mass = mmAccum.value\n",
    "        if verbose:\n",
    "            print(\"Dangling mass: \", mmAccum)\n",
    "        mmAccum = sc.accumulator([0.0] * int(topics + 1), VectorAccumulatorParam())            # resetting to 0.0 for next loop value\n",
    "        \n",
    "        #step 2: redistribute mass and combine mass for nodes\n",
    "        # groupByKey will group all values [edges|topic|empty_pr_list], [probability_mass] by the same key emitted from dist_prob\n",
    "        tempRDD1 = tempRDD.flatMap(dist_prob) \\\n",
    "                            .groupByKey().mapValues(list) \\\n",
    "                            .map(combine_mass) \\\n",
    "                            .map(calc_final_mass) \\\n",
    "        \n",
    "        tempRDD1.foreach(total_mass)\n",
    "        if verbose:\n",
    "            print(\"Total mass   : \", totAccum)\n",
    "        totAccum = sc.accumulator([0.0] * int(topics + 1), VectorAccumulatorParam())           # resetting to 0.0 for next loop value\n",
    "        \n",
    "        tempRDD = tempRDD1                      # keep variable name consistent for next loop\n",
    "    \n",
    "    #steadyStateRDD = tempRDD.map(lambda x: (x[0], x[1][0]))\n",
    "\n",
    "    #tempRDD2 = tempRDD.takeOrdered(10, key=lambda x: -x[0]) \\\n",
    "    \n",
    "    ############## (END) YOUR CODE ##############\n",
    "    \n",
    "    return tempRDD"
   ]
  },
  {
   "cell_type": "code",
   "execution_count": 20,
   "metadata": {},
   "outputs": [
    {
     "name": "stdout",
     "output_type": "stream",
     "text": [
      "Dangling mass:  [0.0, 0.0, 0.0, 0.0, 0.0, 0.0, 0.0, 0.0, 0.0, 0.0, 0.0]\n",
      "Total mass   :  [1.0, 1.0, 1.0, 1.0000000000000002, 1.0000000000000002, 1.0, 0.9999999999999999, 1.0, 1.0, 1.0, 0.9999999999999999]\n",
      "Dangling mass:  [0.0, 0.0, 0.0, 0.0, 0.0, 0.0, 0.0, 0.0, 0.0, 0.0, 0.0]\n",
      "Total mass   :  [0.9999999999999999, 1.0000000000000002, 1.0000000000000002, 1.0000000000000002, 1.0, 1.0000000000000002, 1.0, 1.0, 1.0000000000000002, 1.0, 1.0]\n",
      "Dangling mass:  [0.0, 0.0, 0.0, 0.0, 0.0, 0.0, 0.0, 0.0, 0.0, 0.0, 0.0]\n",
      "Total mass   :  [1.0, 1.0, 1.0, 1.0, 1.0000000000000002, 1.0, 1.0, 1.0000000000000004, 0.9999999999999999, 1.0, 1.0]\n",
      "Dangling mass:  [0.0, 0.0, 0.0, 0.0, 0.0, 0.0, 0.0, 0.0, 0.0, 0.0, 0.0]\n",
      "Total mass   :  [1.0, 1.0, 1.0000000000000002, 1.0, 1.0000000000000002, 1.0000000000000002, 1.0, 1.0000000000000002, 0.9999999999999998, 1.0, 1.0]\n",
      "Dangling mass:  [0.0, 0.0, 0.0, 0.0, 0.0, 0.0, 0.0, 0.0, 0.0, 0.0, 0.0]\n",
      "Total mass   :  [1.0, 1.0, 1.0000000000000002, 1.0, 1.0000000000000002, 1.0, 1.0, 1.0000000000000002, 0.9999999999999999, 1.0000000000000002, 1.0]\n",
      "Dangling mass:  [0.0, 0.0, 0.0, 0.0, 0.0, 0.0, 0.0, 0.0, 0.0, 0.0, 0.0]\n",
      "Total mass   :  [0.9999999999999999, 1.0, 1.0000000000000002, 1.0, 1.0, 1.0000000000000002, 1.0, 1.0000000000000002, 1.0, 1.0, 1.0]\n",
      "Dangling mass:  [0.0, 0.0, 0.0, 0.0, 0.0, 0.0, 0.0, 0.0, 0.0, 0.0, 0.0]\n",
      "Total mass   :  [1.0, 1.0000000000000002, 1.0000000000000004, 1.0, 1.0000000000000002, 1.0000000000000002, 1.0, 1.0, 0.9999999999999998, 1.0000000000000002, 1.0]\n",
      "Dangling mass:  [0.0, 0.0, 0.0, 0.0, 0.0, 0.0, 0.0, 0.0, 0.0, 0.0, 0.0]\n",
      "Total mass   :  [1.0, 1.0000000000000002, 1.0, 1.0, 1.0, 1.0, 1.0, 1.0000000000000002, 0.9999999999999999, 1.0000000000000002, 1.0]\n",
      "Dangling mass:  [0.0, 0.0, 0.0, 0.0, 0.0, 0.0, 0.0, 0.0, 0.0, 0.0, 0.0]\n",
      "Total mass   :  [1.0, 1.0, 1.0000000000000002, 1.0, 1.0000000000000002, 1.0000000000000002, 0.9999999999999998, 1.0000000000000002, 1.0, 1.0000000000000002, 1.0]\n",
      "Dangling mass:  [0.0, 0.0, 0.0, 0.0, 0.0, 0.0, 0.0, 0.0, 0.0, 0.0, 0.0]\n",
      "Total mass   :  [1.0, 1.0000000000000002, 1.0, 1.0, 1.0000000000000004, 1.0, 1.0, 1.0000000000000004, 1.0, 1.0000000000000002, 1.0000000000000002]\n",
      "Dangling mass:  [0.0, 0.0, 0.0, 0.0, 0.0, 0.0, 0.0, 0.0, 0.0, 0.0, 0.0]\n",
      "Total mass   :  [0.9999999999999999, 1.0, 1.0000000000000004, 0.9999999999999999, 1.0000000000000002, 1.0, 1.0, 1.0000000000000002, 1.0, 1.0000000000000002, 1.0000000000000002]\n",
      "Dangling mass:  [0.0, 0.0, 0.0, 0.0, 0.0, 0.0, 0.0, 0.0, 0.0, 0.0, 0.0]\n",
      "Total mass   :  [1.0, 1.0000000000000002, 1.0000000000000004, 0.9999999999999999, 1.0000000000000004, 1.0, 1.0, 1.0000000000000002, 1.0, 1.0000000000000002, 1.0000000000000002]\n",
      "Dangling mass:  [0.0, 0.0, 0.0, 0.0, 0.0, 0.0, 0.0, 0.0, 0.0, 0.0, 0.0]\n",
      "Total mass   :  [1.0, 1.0, 1.0, 1.0, 1.0000000000000004, 1.0, 1.0, 1.0000000000000004, 1.0, 1.0000000000000002, 1.0]\n",
      "Dangling mass:  [0.0, 0.0, 0.0, 0.0, 0.0, 0.0, 0.0, 0.0, 0.0, 0.0, 0.0]\n",
      "Total mass   :  [1.0, 1.0000000000000002, 1.0000000000000004, 1.0, 1.0000000000000004, 1.0, 1.0, 1.0000000000000002, 0.9999999999999999, 1.0000000000000002, 1.0000000000000004]\n",
      "Dangling mass:  [0.0, 0.0, 0.0, 0.0, 0.0, 0.0, 0.0, 0.0, 0.0, 0.0, 0.0]\n",
      "Total mass   :  [1.0, 1.0, 1.0000000000000004, 1.0, 1.0000000000000002, 1.0000000000000002, 1.0, 1.0, 0.9999999999999999, 1.0000000000000002, 1.0000000000000002]\n",
      "Dangling mass:  [0.0, 0.0, 0.0, 0.0, 0.0, 0.0, 0.0, 0.0, 0.0, 0.0, 0.0]\n",
      "Total mass   :  [1.0, 1.0000000000000002, 1.0000000000000002, 1.0, 1.0000000000000002, 1.0000000000000002, 1.0, 1.0000000000000002, 1.0, 1.0000000000000004, 1.0000000000000002]\n",
      "Dangling mass:  [0.0, 0.0, 0.0, 0.0, 0.0, 0.0, 0.0, 0.0, 0.0, 0.0, 0.0]\n",
      "Total mass   :  [1.0, 1.0, 1.0000000000000002, 0.9999999999999999, 1.0000000000000004, 1.0, 0.9999999999999998, 1.0000000000000004, 0.9999999999999999, 1.0000000000000002, 1.0000000000000002]\n",
      "Dangling mass:  [0.0, 0.0, 0.0, 0.0, 0.0, 0.0, 0.0, 0.0, 0.0, 0.0, 0.0]\n",
      "Total mass   :  [1.0, 1.0000000000000002, 1.0000000000000002, 1.0, 1.0000000000000004, 1.0, 0.9999999999999998, 1.0000000000000002, 1.0, 1.0000000000000004, 1.0]\n",
      "Dangling mass:  [0.0, 0.0, 0.0, 0.0, 0.0, 0.0, 0.0, 0.0, 0.0, 0.0, 0.0]\n",
      "Total mass   :  [1.0000000000000002, 1.0000000000000002, 1.0000000000000002, 1.0, 1.0000000000000004, 1.0, 1.0, 1.0000000000000002, 1.0, 1.0000000000000002, 1.0]\n",
      "Dangling mass:  [0.0, 0.0, 0.0, 0.0, 0.0, 0.0, 0.0, 0.0, 0.0, 0.0, 0.0]\n",
      "Total mass   :  [1.0000000000000002, 1.0000000000000002, 1.0000000000000004, 1.0, 1.0000000000000002, 1.0, 1.0, 1.0, 1.0, 1.0000000000000002, 1.0]\n",
      "Dangling mass:  [0.0, 0.0, 0.0, 0.0, 0.0, 0.0, 0.0, 0.0, 0.0, 0.0, 0.0]\n",
      "Total mass   :  [1.0, 1.0000000000000002, 1.0000000000000002, 0.9999999999999998, 1.0000000000000002, 1.0, 1.0, 1.0000000000000004, 1.0, 1.0000000000000002, 1.0000000000000002]\n",
      "Dangling mass:  [0.0, 0.0, 0.0, 0.0, 0.0, 0.0, 0.0, 0.0, 0.0, 0.0, 0.0]\n",
      "Total mass   :  [1.0, 1.0, 1.0000000000000004, 1.0, 1.0000000000000004, 1.0, 1.0, 1.0000000000000002, 1.0, 1.0000000000000004, 1.0]\n",
      "Dangling mass:  [0.0, 0.0, 0.0, 0.0, 0.0, 0.0, 0.0, 0.0, 0.0, 0.0, 0.0]\n",
      "Total mass   :  [1.0, 1.0000000000000002, 1.0000000000000004, 0.9999999999999999, 1.0000000000000004, 1.0, 1.0, 1.0000000000000002, 1.0, 1.0, 1.0000000000000002]\n",
      "Dangling mass:  [0.0, 0.0, 0.0, 0.0, 0.0, 0.0, 0.0, 0.0, 0.0, 0.0, 0.0]\n",
      "Total mass   :  [1.0000000000000002, 1.0000000000000002, 1.0000000000000004, 1.0, 1.0000000000000002, 1.0, 1.0, 1.0000000000000004, 0.9999999999999998, 1.0000000000000002, 1.0]\n",
      "Dangling mass:  [0.0, 0.0, 0.0, 0.0, 0.0, 0.0, 0.0, 0.0, 0.0, 0.0, 0.0]\n",
      "Total mass   :  [1.0000000000000002, 1.0000000000000002, 1.0000000000000004, 0.9999999999999999, 1.0000000000000004, 1.0, 1.0, 1.0000000000000004, 1.0, 1.0000000000000002, 1.0]\n",
      "Dangling mass:  [0.0, 0.0, 0.0, 0.0, 0.0, 0.0, 0.0, 0.0, 0.0, 0.0, 0.0]\n",
      "Total mass   :  [1.0, 1.0000000000000002, 1.0000000000000004, 0.9999999999999998, 1.0000000000000002, 1.0, 1.0, 1.0000000000000004, 1.0, 1.0000000000000002, 1.0]\n",
      "Dangling mass:  [0.0, 0.0, 0.0, 0.0, 0.0, 0.0, 0.0, 0.0, 0.0, 0.0, 0.0]\n",
      "Total mass   :  [1.0, 1.0000000000000002, 1.0000000000000004, 1.0, 1.0000000000000004, 1.0, 1.0, 1.0000000000000002, 0.9999999999999999, 1.0000000000000002, 1.0]\n",
      "Dangling mass:  [0.0, 0.0, 0.0, 0.0, 0.0, 0.0, 0.0, 0.0, 0.0, 0.0, 0.0]\n",
      "Total mass   :  [1.0, 1.0000000000000002, 1.0000000000000004, 1.0, 1.0000000000000004, 1.0, 1.0, 1.0000000000000002, 0.9999999999999999, 1.0000000000000002, 1.0]\n",
      "Dangling mass:  [0.0, 0.0, 0.0, 0.0, 0.0, 0.0, 0.0, 0.0, 0.0, 0.0, 0.0]\n",
      "Total mass   :  [1.0000000000000002, 1.0000000000000002, 1.0000000000000002, 1.0, 1.0000000000000002, 1.0, 0.9999999999999999, 1.0000000000000002, 0.9999999999999998, 1.0000000000000002, 1.0000000000000002]\n",
      "Dangling mass:  [0.0, 0.0, 0.0, 0.0, 0.0, 0.0, 0.0, 0.0, 0.0, 0.0, 0.0]\n",
      "Total mass   :  [1.0, 1.0000000000000002, 1.0000000000000004, 1.0, 1.0000000000000004, 1.0, 0.9999999999999999, 1.0000000000000002, 0.9999999999999998, 1.0000000000000002, 1.0]\n",
      "Dangling mass:  [0.0, 0.0, 0.0, 0.0, 0.0, 0.0, 0.0, 0.0, 0.0, 0.0, 0.0]\n",
      "Total mass   :  [1.0, 1.0000000000000002, 1.0000000000000002, 0.9999999999999998, 1.0000000000000002, 1.0, 0.9999999999999999, 1.0000000000000002, 0.9999999999999999, 1.0000000000000002, 1.0000000000000002]\n",
      "Dangling mass:  [0.0, 0.0, 0.0, 0.0, 0.0, 0.0, 0.0, 0.0, 0.0, 0.0, 0.0]\n",
      "Total mass   :  [1.0, 1.0000000000000004, 1.0000000000000004, 1.0, 1.0000000000000004, 1.0, 0.9999999999999999, 1.0000000000000002, 0.9999999999999998, 1.0000000000000002, 1.0]\n",
      "Dangling mass:  [0.0, 0.0, 0.0, 0.0, 0.0, 0.0, 0.0, 0.0, 0.0, 0.0, 0.0]\n",
      "Total mass   :  [1.0, 1.0000000000000002, 1.0000000000000004, 1.0, 1.0000000000000002, 1.0, 0.9999999999999999, 1.0000000000000002, 0.9999999999999999, 1.0000000000000002, 1.0000000000000002]\n",
      "Dangling mass:  [0.0, 0.0, 0.0, 0.0, 0.0, 0.0, 0.0, 0.0, 0.0, 0.0, 0.0]\n",
      "Total mass   :  [1.0, 1.0000000000000002, 1.0000000000000002, 1.0, 1.0000000000000002, 1.0, 0.9999999999999999, 1.0000000000000002, 0.9999999999999999, 1.0000000000000002, 1.0000000000000002]\n",
      "Dangling mass:  [0.0, 0.0, 0.0, 0.0, 0.0, 0.0, 0.0, 0.0, 0.0, 0.0, 0.0]\n",
      "Total mass   :  [1.0, 1.0000000000000002, 1.0000000000000002, 1.0, 1.0000000000000004, 1.0, 1.0, 1.0000000000000002, 0.9999999999999999, 1.0, 1.0000000000000002]\n",
      "Dangling mass:  [0.0, 0.0, 0.0, 0.0, 0.0, 0.0, 0.0, 0.0, 0.0, 0.0, 0.0]\n",
      "Total mass   :  [0.9999999999999998, 1.0, 1.0000000000000002, 0.9999999999999999, 1.0000000000000002, 1.0, 0.9999999999999999, 1.0000000000000002, 0.9999999999999999, 1.0000000000000002, 1.0000000000000002]\n",
      "Dangling mass:  [0.0, 0.0, 0.0, 0.0, 0.0, 0.0, 0.0, 0.0, 0.0, 0.0, 0.0]\n",
      "Total mass   :  [1.0, 1.0000000000000002, 1.0000000000000002, 1.0, 1.0000000000000002, 1.0, 0.9999999999999999, 1.0000000000000004, 0.9999999999999998, 1.0000000000000002, 1.0]\n",
      "Dangling mass:  [0.0, 0.0, 0.0, 0.0, 0.0, 0.0, 0.0, 0.0, 0.0, 0.0, 0.0]\n",
      "Total mass   :  [1.0, 1.0000000000000002, 1.0000000000000004, 1.0, 1.0000000000000002, 1.0000000000000002, 0.9999999999999999, 1.0000000000000002, 0.9999999999999998, 1.0000000000000004, 1.0000000000000002]\n",
      "Dangling mass:  [0.0, 0.0, 0.0, 0.0, 0.0, 0.0, 0.0, 0.0, 0.0, 0.0, 0.0]\n",
      "Total mass   :  [1.0, 1.0, 1.0000000000000002, 1.0, 1.0000000000000002, 1.0, 0.9999999999999999, 1.0000000000000002, 1.0, 1.0000000000000002, 1.0000000000000002]\n",
      "Dangling mass:  [0.0, 0.0, 0.0, 0.0, 0.0, 0.0, 0.0, 0.0, 0.0, 0.0, 0.0]\n",
      "Total mass   :  [1.0, 1.0000000000000002, 1.0000000000000002, 1.0, 1.0000000000000002, 1.0000000000000002, 0.9999999999999999, 1.0000000000000004, 0.9999999999999999, 1.0000000000000002, 1.0000000000000002]\n",
      "Dangling mass:  [0.0, 0.0, 0.0, 0.0, 0.0, 0.0, 0.0, 0.0, 0.0, 0.0, 0.0]\n",
      "Total mass   :  [0.9999999999999998, 1.0000000000000002, 1.0000000000000002, 1.0, 1.0000000000000002, 1.0, 0.9999999999999999, 1.0000000000000002, 0.9999999999999999, 1.0000000000000002, 1.0000000000000004]\n",
      "Dangling mass:  [0.0, 0.0, 0.0, 0.0, 0.0, 0.0, 0.0, 0.0, 0.0, 0.0, 0.0]\n",
      "Total mass   :  [1.0, 1.0000000000000004, 1.0000000000000002, 1.0, 1.0000000000000002, 1.0, 0.9999999999999999, 1.0000000000000002, 0.9999999999999998, 1.0000000000000002, 1.0]\n",
      "Dangling mass:  [0.0, 0.0, 0.0, 0.0, 0.0, 0.0, 0.0, 0.0, 0.0, 0.0, 0.0]\n",
      "Total mass   :  [1.0, 1.0000000000000002, 1.0000000000000002, 1.0, 1.0, 1.0000000000000002, 0.9999999999999999, 1.0, 0.9999999999999999, 1.0000000000000004, 1.0000000000000002]\n",
      "Dangling mass:  [0.0, 0.0, 0.0, 0.0, 0.0, 0.0, 0.0, 0.0, 0.0, 0.0, 0.0]\n",
      "Total mass   :  [0.9999999999999999, 1.0000000000000002, 1.0000000000000002, 1.0, 1.0000000000000002, 1.0000000000000002, 0.9999999999999999, 1.0000000000000002, 1.0, 1.0000000000000004, 1.0000000000000002]\n",
      "Dangling mass:  [0.0, 0.0, 0.0, 0.0, 0.0, 0.0, 0.0, 0.0, 0.0, 0.0, 0.0]\n",
      "Total mass   :  [0.9999999999999998, 1.0000000000000002, 1.0000000000000002, 1.0, 1.0000000000000002, 1.0000000000000002, 0.9999999999999999, 1.0000000000000004, 0.9999999999999999, 1.0000000000000002, 1.0000000000000002]\n",
      "Dangling mass:  [0.0, 0.0, 0.0, 0.0, 0.0, 0.0, 0.0, 0.0, 0.0, 0.0, 0.0]\n",
      "Total mass   :  [0.9999999999999998, 1.0000000000000002, 1.0000000000000002, 1.0, 1.0000000000000002, 1.0, 0.9999999999999999, 1.0000000000000002, 0.9999999999999998, 1.0000000000000002, 1.0000000000000002]\n",
      "Dangling mass:  [0.0, 0.0, 0.0, 0.0, 0.0, 0.0, 0.0, 0.0, 0.0, 0.0, 0.0]\n",
      "Total mass   :  [1.0, 1.0000000000000004, 1.0000000000000002, 1.0, 1.0000000000000002, 1.0, 0.9999999999999999, 1.0000000000000002, 0.9999999999999998, 1.0000000000000002, 1.0000000000000002]\n",
      "Dangling mass:  [0.0, 0.0, 0.0, 0.0, 0.0, 0.0, 0.0, 0.0, 0.0, 0.0, 0.0]\n",
      "Total mass   :  [1.0, 1.0000000000000002, 1.0000000000000002, 1.0, 1.0000000000000002, 1.0000000000000002, 0.9999999999999999, 1.0, 0.9999999999999999, 1.0000000000000002, 1.0000000000000002]\n",
      "Dangling mass:  [0.0, 0.0, 0.0, 0.0, 0.0, 0.0, 0.0, 0.0, 0.0, 0.0, 0.0]\n",
      "Total mass   :  [0.9999999999999999, 1.0000000000000002, 1.0000000000000002, 1.0, 1.0000000000000002, 1.0000000000000002, 0.9999999999999999, 1.0000000000000002, 1.0, 1.0000000000000004, 1.0000000000000002]\n",
      "Dangling mass:  [0.0, 0.0, 0.0, 0.0, 0.0, 0.0, 0.0, 0.0, 0.0, 0.0, 0.0]\n",
      "Total mass   :  [0.9999999999999998, 1.0000000000000002, 1.0000000000000002, 1.0, 1.0000000000000002, 1.0, 0.9999999999999999, 1.0000000000000002, 0.9999999999999998, 1.0000000000000002, 1.0000000000000002]\n",
      "... full graph initialized in 12.676314115524292 seconds\n"
     ]
    }
   ],
   "source": [
    "# part c - run your code on the main graph (RUN THIS CELL AS IS)\n",
    "start = time.time()\n",
    "randGraphTopicsRDD = PageRankTopics(randGraphRDD, topics_count_dict, alpha=0.85, beta=0.99, \n",
    "                                    nodes=100, topics=10, maxIter=50, verbose=True)\n",
    "print(f'... full graph initialized in {time.time() - start} seconds')"
   ]
  },
  {
   "cell_type": "code",
   "execution_count": 21,
   "metadata": {},
   "outputs": [
    {
     "name": "stdout",
     "output_type": "stream",
     "text": [
      "('60', \"{'14': 1, '17': 1, '76': 1, '29': 1, '1': 1, '98': 1, '62': 1, '63': 1, '6': 1, '94': 1}|10|[0.003066837698270421, 0.0036896178508563737, 0.003543324958153142, 0.004714284228770168, 0.0058363410584456885, 0.0057633929817600335, 0.004693690544206149, 0.003748833285665916, 0.0038375498545273443, 0.01644426202716453, 0.005569262027164528]\")\n",
      "('50', \"{'11': 1, '60': 1, '27': 1, '21': 1, '17': 1, '28': 1, '51': 1, '29': 1, '1': 1, '61': 1, '89': 1}|7|[0.004909122018369882, 0.005751584929706713, 0.004521263551359204, 0.004644368145761441, 0.007737698272641631, 0.004826205473362267, 0.020089070089407066, 0.005973257637176284, 0.006130599397343036, 0.005197628268595756, 0.006680582814050302]\")\n",
      "('56', \"{'27': 1, '15': 1, '46': 1, '32': 1, '31': 1, '52': 1, '68': 1, '84': 1}|6|[0.010696780710947394, 0.010076269808140765, 0.00991368607442847, 0.010584316301176299, 0.009750217590700942, 0.03285391087849323, 0.009671928332566967, 0.009843851448442237, 0.008020355489620809, 0.010371375720057318, 0.011854330265511862]\")\n",
      "('40', \"{'58': 1, '56': 1, '61': 1, '88': 1, '4': 1, '90': 1, '92': 1, '97': 1}|3|[0.007794328452792873, 0.00999153098160563, 0.02217850393844379, 0.006920054043729897, 0.005331947426131423, 0.005579776936203792, 0.007966055913320355, 0.005762242353812953, 0.005480386142351941, 0.006938490509393293, 0.008421445054847838]\")\n",
      "('82', \"{'13': 1, '42': 1, '40': 1, '76': 1, '89': 1, '69': 1, '93': 1, '95': 1, '100': 1}|2|[0.002201277821252998, 0.02285821900279547, 0.0026084228644868753, 0.0025607060187790207, 0.002474971454141251, 0.0055895232203279546, 0.0035977242045942192, 0.002930762263776167, 0.0028651871897053564, 0.0033813929085717057, 0.004864347454026251]\")\n",
      "('53', \"{'7': 1, '34': 1, '3': 1, '73': 1, '71': 1, '67': 1, '82': 1, '96': 1, '87': 1, '97': 1, '78': 1}|7|[0.009568203236624096, 0.008761772106691683, 0.01092370456923467, 0.011409165927772741, 0.010100760202157003, 0.01307935925170446, 0.02476766026376627, 0.013458817942418249, 0.011468346778954494, 0.010305851338755898, 0.011788805884210442]\")\n",
      "('64', \"{'26': 1, '3': 1, '54': 1, '42': 1, '62': 1, '41': 1, '60': 1, '98': 1, '75': 1, '67': 1, '82': 1, '100': 1, '87': 1}|10|[0.005705508460308813, 0.005811853964367613, 0.006105206126799462, 0.004908410792145091, 0.005017450285147359, 0.00718542246266238, 0.004584849264191677, 0.006154213574154437, 0.007167733118205168, 0.017106649678624734, 0.006231649678624731]\")\n",
      "('10', \"{'38': 1, '49': 1, '46': 1, '47': 1, '28': 1, '53': 1, '61': 1, '89': 1, '64': 1, '80': 1}|1|[0.018565527659378488, 0.008473360067136343, 0.01059253762478958, 0.009261490124157109, 0.009453018233792363, 0.010372039051657046, 0.00997003291561642, 0.010127214686835157, 0.00946113378557876, 0.008989150910780718, 0.010472105456235262]\")\n",
      "('24', \"{'14': 1, '32': 1, '42': 1, '50': 1, '53': 1, '29': 1, '74': 1, '66': 1, '54': 1, '83': 1, '100': 1, '92': 1, '94': 1, '96': 1}|9|[0.007780519891030106, 0.004806235605036499, 0.0058656900217878725, 0.0056546772664006735, 0.006247435640362638, 0.004841916556593744, 0.00472930267938201, 0.005856268975290927, 0.02577308113565806, 0.006132701911138682, 0.007615656456593228]\")\n",
      "('16', \"{'24': 1, '10': 1, '58': 1, '57': 1, '65': 1, '9': 1, '85': 1}|1|[0.014879821301546914, 0.0066590476079980195, 0.006065061903552271, 0.006904849192320104, 0.006076327027914411, 0.005968160601281158, 0.005213184575169976, 0.006977604095440422, 0.004783212027182007, 0.0065561142634563115, 0.008039068808910857]\")\n"
     ]
    }
   ],
   "source": [
    "!rm -rf data/randGraphTopics\n",
    "randGraphTopicsRDD.coalesce(1).saveAsTextFile(\"data/randGraphTopics\")\n",
    "!head data/randGraphTopics/part-00000"
   ]
  },
  {
   "cell_type": "code",
   "execution_count": 22,
   "metadata": {},
   "outputs": [
    {
     "name": "stdout",
     "output_type": "stream",
     "text": [
      "     100 data/randGraphTopics/part-00000\n"
     ]
    }
   ],
   "source": [
    "!wc -l data/randGraphTopics/part-00000"
   ]
  },
  {
   "cell_type": "code",
   "execution_count": 23,
   "metadata": {},
   "outputs": [],
   "source": [
    "# Saving the output permanently\n",
    "\n",
    "!mv data/randGraphTopics/part-00000 topic_pagerank.txt"
   ]
  },
  {
   "cell_type": "code",
   "execution_count": 36,
   "metadata": {},
   "outputs": [
    {
     "name": "stdout",
     "output_type": "stream",
     "text": [
      "*************************************\n",
      "Top 10 pages for Page rank\n",
      "**************************************\n",
      "63   4    0.0185\n",
      "61   8    0.0173\n",
      "15   3    0.0165\n",
      "74   10   0.0155\n",
      "92   1    0.0149\n",
      "100  8    0.0149\n",
      "90   5    0.0147\n",
      "13   6    0.0145\n",
      "85   7    0.0142\n",
      "71   2    0.0141\n",
      "************************************\n",
      "Top 10 pages for Topic 1\n",
      "************************************\n",
      "32   1    0.0206\n",
      "77   1    0.0205\n",
      "52   1    0.0198\n",
      "92   1    0.0195\n",
      "10   1    0.0186\n",
      "27   1    0.0185\n",
      "85   7    0.0178\n",
      "98   1    0.0177\n",
      "46   1    0.0175\n",
      "74   10   0.016\n",
      "************************************\n",
      "Top 10 pages for Topic 2\n",
      "************************************\n",
      "58   2    0.0308\n",
      "71   2    0.0297\n",
      "9    2    0.0293\n",
      "73   2    0.0289\n",
      "12   2    0.0269\n",
      "59   2    0.0258\n",
      "75   2    0.0248\n",
      "82   2    0.0229\n",
      "52   1    0.0163\n",
      "17   10   0.0152\n",
      "************************************\n",
      "Top 10 pages for Topic 3\n",
      "************************************\n",
      "15   3    0.0315\n",
      "70   3    0.0271\n",
      "86   3    0.0265\n",
      "91   3    0.0245\n",
      "66   3    0.0241\n",
      "2    3    0.0237\n",
      "31   3    0.0228\n",
      "40   3    0.0222\n",
      "20   3    0.0197\n",
      "74   10   0.0159\n",
      "************************************\n",
      "Top 10 pages for Topic 4\n",
      "************************************\n",
      "63   4    0.0262\n",
      "83   4    0.0218\n",
      "65   4    0.0206\n",
      "78   4    0.0202\n",
      "41   4    0.0199\n",
      "84   4    0.0195\n",
      "79   4    0.0184\n",
      "38   4    0.0175\n",
      "15   3    0.0168\n",
      "72   4    0.0167\n",
      "************************************\n",
      "Top 10 pages for Topic 5\n",
      "************************************\n",
      "99   5    0.029\n",
      "90   5    0.0283\n",
      "88   5    0.0272\n",
      "51   5    0.0268\n",
      "45   5    0.0256\n",
      "5    5    0.0239\n",
      "34   5    0.0239\n",
      "4    5    0.0234\n",
      "80   5    0.0228\n",
      "100  8    0.0167\n",
      "************************************\n",
      "Top 10 pages for Topic 6\n",
      "************************************\n",
      "13   6    0.0346\n",
      "56   6    0.0329\n",
      "37   6    0.0318\n",
      "11   6    0.0313\n",
      "69   6    0.0301\n",
      "23   6    0.0283\n",
      "15   3    0.0172\n",
      "85   7    0.017\n",
      "52   1    0.0166\n",
      "74   10   0.0155\n",
      "************************************\n",
      "Top 10 pages for Topic 7\n",
      "************************************\n",
      "85   7    0.0268\n",
      "25   7    0.0266\n",
      "28   7    0.0248\n",
      "53   7    0.0248\n",
      "35   7    0.0242\n",
      "97   7    0.0234\n",
      "47   7    0.0229\n",
      "55   7    0.0226\n",
      "30   7    0.0221\n",
      "50   7    0.0201\n",
      "************************************\n",
      "Top 10 pages for Topic 8\n",
      "************************************\n",
      "100  8    0.0329\n",
      "61   8    0.0279\n",
      "39   8    0.0272\n",
      "8    8    0.0272\n",
      "62   8    0.0253\n",
      "87   8    0.0253\n",
      "6    8    0.0235\n",
      "54   8    0.0229\n",
      "18   8    0.0206\n",
      "9    2    0.0154\n",
      "************************************\n",
      "Top 10 pages for Topic 9\n",
      "************************************\n",
      "94   9    0.0302\n",
      "14   9    0.0295\n",
      "42   9    0.0292\n",
      "21   9    0.0284\n",
      "57   9    0.0275\n",
      "96   9    0.0263\n",
      "24   9    0.0258\n",
      "63   4    0.0172\n",
      "61   8    0.0164\n",
      "74   10   0.0143\n",
      "************************************\n",
      "Top 10 pages for Topic 10\n",
      "************************************\n",
      "74   10   0.0263\n",
      "17   10   0.0236\n",
      "49   10   0.0236\n",
      "95   10   0.0206\n",
      "7    10   0.0199\n",
      "43   10   0.0194\n",
      "68   10   0.019\n",
      "48   10   0.019\n",
      "1    10   0.019\n",
      "3    10   0.0186\n"
     ]
    }
   ],
   "source": [
    "# Comparing topic specific pagerank \n",
    "\n",
    "topic_pagerank = []\n",
    "\n",
    "with open('./topic_pagerank.txt', 'r') as f:\n",
    "    for line in f.readlines():\n",
    "        line = ast.literal_eval(line)\n",
    "        node, node_info = line\n",
    "        edges, topic, pagerank = map(ast.literal_eval, node_info.split('|'))\n",
    "        top_pages_topics = []\n",
    "        top_pages_topics.extend([int(node), topic])\n",
    "        for i in range (0, 11):\n",
    "            top_pages_topics.append(float(pagerank[i]))\n",
    "        topic_pagerank.append(top_pages_topics)\n",
    "        \n",
    "        \n",
    "print('*************************************')\n",
    "print(\"Top 10 pages for Global Page rank\")\n",
    "print('**************************************')\n",
    "\n",
    "for pr in sorted(topic_pagerank, key=lambda x: x[12], reverse=True)[:10]:\n",
    "    print(\"{0: <4} {1: <4} {2}\".format(pr[0], pr[1], round(pr[12], 4)))\n",
    "        \n",
    "for i in range(10):\n",
    "    print('************************************')\n",
    "    print(\"Top 10 pages for Topic\",i+1)\n",
    "    print('************************************')\n",
    "    for pr in sorted(topic_pagerank, key=lambda x: x[i+2], reverse=True)[:10]:\n",
    "        print(\"{0: <4} {1: <4} {2}\".format(pr[0], pr[1], round(pr[i+2], 4)))"
   ]
  },
  {
   "cell_type": "markdown",
   "metadata": {},
   "source": [
    "### Q. So, instead of using this method for irreducibility, please comment on why the literature's method is difficult to implement, and what what extra computation it will require\n",
    "\n",
    "A. For topic-specific PageRank, literature's method is difficult to implement because irreducibility to have fully connected entire web will require massive computational power. Especially when there are thousands of topics to cover, it would be computationally very expensive.\n",
    "\n",
    "### Conclusion \n",
    "Topic specific pagerank or personalized pagerank is based on the query word that a random surfer has searched. In normal pagerank, all the webpages will receive an equally distributed probability mass called a uniform vector, i.e., $\\frac{1}{|N|}$ where |N| is the total number of webpages. In topic sensitive pagerank, the non-uniform vector $\\frac{\\beta}{|T|}$ for the correct topic and $\\frac{1-\\beta}{|N| - |T|}$ for irrelevant topics where |T| is the number of webpages for the topic in concern, is implemented in place of the uniform vector to account for the number of topics we defined. \n",
    "\n",
    "Eg, if a surfer has a habit of searching \"electronic gadgets\", and his next query is *apple*, topic-specific pagerank will rank **Apple** products whereas the global pagerank or ordinary pagerank based on the outgoing links will probabiliy rank the produce _apple_. By providing customized webpages based on the personalized algorithm, topic specific pagerank gives more accurate results or webpages on the query word. \n",
    "\n",
    "As we can see from the results, global ranking of webpages are random with their uniform probability mass distributed solely based on the outgoing links. In topic-sensitive ranking, for topic `3`, all the top 9 pages are related to the correct topic which is `3` and only the 10th webpage is associated with the topic `10`. "
   ]
  }
 ],
 "metadata": {
  "kernelspec": {
   "display_name": "Python 3",
   "language": "python",
   "name": "python3"
  },
  "language_info": {
   "codemirror_mode": {
    "name": "ipython",
    "version": 3
   },
   "file_extension": ".py",
   "mimetype": "text/x-python",
   "name": "python",
   "nbconvert_exporter": "python",
   "pygments_lexer": "ipython3",
   "version": "3.6.6"
  },
  "toc": {
   "colors": {
    "hover_highlight": "#DAA520",
    "running_highlight": "#FF0000",
    "selected_highlight": "#FFD700"
   },
   "moveMenuLeft": true,
   "nav_menu": {
    "height": "441px",
    "width": "252px"
   },
   "navigate_menu": true,
   "number_sections": true,
   "sideBar": true,
   "threshold": 4,
   "toc_cell": true,
   "toc_position": {
    "height": "827px",
    "left": "0px",
    "right": "1125px",
    "top": "107px",
    "width": "428px"
   },
   "toc_section_display": "block",
   "toc_window_display": true
  }
 },
 "nbformat": 4,
 "nbformat_minor": 2
}
